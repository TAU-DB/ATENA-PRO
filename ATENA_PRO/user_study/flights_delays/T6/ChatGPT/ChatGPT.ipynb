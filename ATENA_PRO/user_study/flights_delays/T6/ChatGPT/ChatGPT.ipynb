{
 "cells": [
  {
   "cell_type": "markdown",
   "metadata": {},
   "source": [
    "# Explore reasons for delay"
   ]
  },
  {
   "cell_type": "code",
   "execution_count": 4,
   "outputs": [],
   "source": [
    "from ATENA_PRO.src.ATENA_A_EDA.benchmark.atena.simulation.dataset import DatasetMeta, SchemaName, \\\n",
    "    Dataset, FlightsDatasetName"
   ],
   "metadata": {
    "collapsed": false
   }
  },
  {
   "cell_type": "code",
   "execution_count": 5,
   "outputs": [
    {
     "data": {
      "text/plain": "     flight_id airline origin_airport destination_airport  flight_number  \\\n65          65      NK            BOS                 MYR            103   \n71          71      AA            BOS                 MIA           2454   \n104        104      B6            BOS                 BWI            727   \n108        108      DL            BOS                 DTW           2079   \n121        121      B6            BOS                 PBI            721   \n\n    delay_reason departure_delay scheduled_trip_time scheduled_departure  \\\n65          None         ON_TIME          MID_FLIGHT               NIGHT   \n71          None         ON_TIME         LONG_FLIGHT               NIGHT   \n104         None         ON_TIME          MID_FLIGHT               NIGHT   \n108         None         ON_TIME          MID_FLIGHT               NIGHT   \n121         None         ON_TIME         LONG_FLIGHT               NIGHT   \n\n    scheduled_arrival  day_of_week  day_of_year  \n65            MORNING            4            1  \n71            MORNING            4            1  \n104           MORNING            4            1  \n108           MORNING            4            1  \n121           MORNING            4            1  ",
      "text/html": "<div>\n<style scoped>\n    .dataframe tbody tr th:only-of-type {\n        vertical-align: middle;\n    }\n\n    .dataframe tbody tr th {\n        vertical-align: top;\n    }\n\n    .dataframe thead th {\n        text-align: right;\n    }\n</style>\n<table border=\"1\" class=\"dataframe\">\n  <thead>\n    <tr style=\"text-align: right;\">\n      <th></th>\n      <th>flight_id</th>\n      <th>airline</th>\n      <th>origin_airport</th>\n      <th>destination_airport</th>\n      <th>flight_number</th>\n      <th>delay_reason</th>\n      <th>departure_delay</th>\n      <th>scheduled_trip_time</th>\n      <th>scheduled_departure</th>\n      <th>scheduled_arrival</th>\n      <th>day_of_week</th>\n      <th>day_of_year</th>\n    </tr>\n  </thead>\n  <tbody>\n    <tr>\n      <th>65</th>\n      <td>65</td>\n      <td>NK</td>\n      <td>BOS</td>\n      <td>MYR</td>\n      <td>103</td>\n      <td>None</td>\n      <td>ON_TIME</td>\n      <td>MID_FLIGHT</td>\n      <td>NIGHT</td>\n      <td>MORNING</td>\n      <td>4</td>\n      <td>1</td>\n    </tr>\n    <tr>\n      <th>71</th>\n      <td>71</td>\n      <td>AA</td>\n      <td>BOS</td>\n      <td>MIA</td>\n      <td>2454</td>\n      <td>None</td>\n      <td>ON_TIME</td>\n      <td>LONG_FLIGHT</td>\n      <td>NIGHT</td>\n      <td>MORNING</td>\n      <td>4</td>\n      <td>1</td>\n    </tr>\n    <tr>\n      <th>104</th>\n      <td>104</td>\n      <td>B6</td>\n      <td>BOS</td>\n      <td>BWI</td>\n      <td>727</td>\n      <td>None</td>\n      <td>ON_TIME</td>\n      <td>MID_FLIGHT</td>\n      <td>NIGHT</td>\n      <td>MORNING</td>\n      <td>4</td>\n      <td>1</td>\n    </tr>\n    <tr>\n      <th>108</th>\n      <td>108</td>\n      <td>DL</td>\n      <td>BOS</td>\n      <td>DTW</td>\n      <td>2079</td>\n      <td>None</td>\n      <td>ON_TIME</td>\n      <td>MID_FLIGHT</td>\n      <td>NIGHT</td>\n      <td>MORNING</td>\n      <td>4</td>\n      <td>1</td>\n    </tr>\n    <tr>\n      <th>121</th>\n      <td>121</td>\n      <td>B6</td>\n      <td>BOS</td>\n      <td>PBI</td>\n      <td>721</td>\n      <td>None</td>\n      <td>ON_TIME</td>\n      <td>LONG_FLIGHT</td>\n      <td>NIGHT</td>\n      <td>MORNING</td>\n      <td>4</td>\n      <td>1</td>\n    </tr>\n  </tbody>\n</table>\n</div>"
     },
     "execution_count": 5,
     "metadata": {},
     "output_type": "execute_result"
    }
   ],
   "source": [
    "dataset_meta = DatasetMeta(SchemaName.FLIGHTS, FlightsDatasetName.DATASET2)\n",
    "dataset = Dataset(dataset_meta)\n",
    "dataset_df = dataset.load_data()\n",
    "\n",
    "\n",
    "dataset_df.head()"
   ],
   "metadata": {
    "collapsed": false
   }
  },
  {
   "cell_type": "markdown",
   "metadata": {},
   "source": [
    "### Session Tree:"
   ]
  },
  {
   "cell_type": "code",
   "execution_count": 6,
   "metadata": {},
   "outputs": [],
   "source": []
  },
  {
   "cell_type": "markdown",
   "source": [
    "### Queries"
   ],
   "metadata": {
    "collapsed": false
   }
  },
  {
   "cell_type": "code",
   "execution_count": 2,
   "metadata": {},
   "outputs": [
    {
     "name": "stdout",
     "output_type": "stream",
     "text": [
      "delay_reason\n",
      "AIRLINE           449\n",
      "AIR_SYSTEM        908\n",
      "LATE_AIRCRAFT     485\n",
      "None             6233\n",
      "SECURITY            1\n",
      "WEATHER            96\n",
      "Name: flight_id, dtype: int64\n"
     ]
    }
   ],
   "source": [
    "# Group the data by delay reason and count the number of occurrences\n",
    "delay_reason_counts = dataset_df.groupby('delay_reason')['flight_id'].count()\n",
    "print(delay_reason_counts)"
   ]
  },
  {
   "cell_type": "code",
   "execution_count": null,
   "outputs": [],
   "source": [],
   "metadata": {
    "collapsed": false
   }
  }
 ],
 "metadata": {
  "kernelspec": {
   "display_name": "Python 3",
   "language": "python",
   "name": "python3"
  },
  "language_info": {
   "codemirror_mode": {
    "name": "ipython",
    "version": 3
   },
   "file_extension": ".py",
   "mimetype": "text/x-python",
   "name": "python",
   "nbconvert_exporter": "python",
   "pygments_lexer": "ipython3",
   "version": "3.7.6"
  }
 },
 "nbformat": 4,
 "nbformat_minor": 4
}
