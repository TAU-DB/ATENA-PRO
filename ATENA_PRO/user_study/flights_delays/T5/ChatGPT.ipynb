{
 "cells": [
  {
   "cell_type": "markdown",
   "metadata": {},
   "source": [
    "# Properties of summer-months flights\n",
    "NOTE - this notebook excuted on slightly different flights dataset (not binned, though the original one,  - https://www.kaggle.com/datasets/usdot/flight-delays?select=flights.csv)"
   ]
  },
  {
   "cell_type": "code",
   "execution_count": 1,
   "outputs": [],
   "source": [
    "from ATENA_PRO.src.ATENA_A_EDA.benchmark.atena.simulation.dataset import DatasetMeta, SchemaName, \\\n",
    "    Dataset, FlightsDatasetName"
   ],
   "metadata": {
    "collapsed": false
   }
  },
  {
   "cell_type": "code",
   "execution_count": 11,
   "outputs": [
    {
     "data": {
      "text/plain": "     YEAR  MONTH  DAY  DAY_OF_WEEK AIRLINE  FLIGHT_NUMBER TAIL_NUMBER  \\\n65   2015      1    1            4      NK            103      N616NK   \n71   2015      1    1            4      AA           2454      N3ETAA   \n104  2015      1    1            4      B6            727      N292JB   \n108  2015      1    1            4      DL           2079      N389DA   \n121  2015      1    1            4      B6            721      N623JB   \n\n    ORIGIN_AIRPORT DESTINATION_AIRPORT  SCHEDULED_DEPARTURE  ...  \\\n65             BOS                 MYR                  510  ...   \n71             BOS                 MIA                  515  ...   \n104            BOS                 BWI                  540  ...   \n108            BOS                 DTW                  540  ...   \n121            BOS                 PBI                  545  ...   \n\n     ARRIVAL_TIME  ARRIVAL_DELAY  DIVERTED  CANCELLED  CANCELLATION_REASON  \\\n65          720.0          -10.0         0          0                  NaN   \n71          845.0            2.0         0          0                  NaN   \n104         700.0          -21.0         0          0                  NaN   \n108         742.0          -21.0         0          0                  NaN   \n121         901.0           -9.0         0          0                  NaN   \n\n     AIR_SYSTEM_DELAY  SECURITY_DELAY  AIRLINE_DELAY  LATE_AIRCRAFT_DELAY  \\\n65                NaN             NaN            NaN                  NaN   \n71                NaN             NaN            NaN                  NaN   \n104               NaN             NaN            NaN                  NaN   \n108               NaN             NaN            NaN                  NaN   \n121               NaN             NaN            NaN                  NaN   \n\n     WEATHER_DELAY  \n65             NaN  \n71             NaN  \n104            NaN  \n108            NaN  \n121            NaN  \n\n[5 rows x 31 columns]",
      "text/html": "<div>\n<style scoped>\n    .dataframe tbody tr th:only-of-type {\n        vertical-align: middle;\n    }\n\n    .dataframe tbody tr th {\n        vertical-align: top;\n    }\n\n    .dataframe thead th {\n        text-align: right;\n    }\n</style>\n<table border=\"1\" class=\"dataframe\">\n  <thead>\n    <tr style=\"text-align: right;\">\n      <th></th>\n      <th>YEAR</th>\n      <th>MONTH</th>\n      <th>DAY</th>\n      <th>DAY_OF_WEEK</th>\n      <th>AIRLINE</th>\n      <th>FLIGHT_NUMBER</th>\n      <th>TAIL_NUMBER</th>\n      <th>ORIGIN_AIRPORT</th>\n      <th>DESTINATION_AIRPORT</th>\n      <th>SCHEDULED_DEPARTURE</th>\n      <th>...</th>\n      <th>ARRIVAL_TIME</th>\n      <th>ARRIVAL_DELAY</th>\n      <th>DIVERTED</th>\n      <th>CANCELLED</th>\n      <th>CANCELLATION_REASON</th>\n      <th>AIR_SYSTEM_DELAY</th>\n      <th>SECURITY_DELAY</th>\n      <th>AIRLINE_DELAY</th>\n      <th>LATE_AIRCRAFT_DELAY</th>\n      <th>WEATHER_DELAY</th>\n    </tr>\n  </thead>\n  <tbody>\n    <tr>\n      <th>65</th>\n      <td>2015</td>\n      <td>1</td>\n      <td>1</td>\n      <td>4</td>\n      <td>NK</td>\n      <td>103</td>\n      <td>N616NK</td>\n      <td>BOS</td>\n      <td>MYR</td>\n      <td>510</td>\n      <td>...</td>\n      <td>720.0</td>\n      <td>-10.0</td>\n      <td>0</td>\n      <td>0</td>\n      <td>NaN</td>\n      <td>NaN</td>\n      <td>NaN</td>\n      <td>NaN</td>\n      <td>NaN</td>\n      <td>NaN</td>\n    </tr>\n    <tr>\n      <th>71</th>\n      <td>2015</td>\n      <td>1</td>\n      <td>1</td>\n      <td>4</td>\n      <td>AA</td>\n      <td>2454</td>\n      <td>N3ETAA</td>\n      <td>BOS</td>\n      <td>MIA</td>\n      <td>515</td>\n      <td>...</td>\n      <td>845.0</td>\n      <td>2.0</td>\n      <td>0</td>\n      <td>0</td>\n      <td>NaN</td>\n      <td>NaN</td>\n      <td>NaN</td>\n      <td>NaN</td>\n      <td>NaN</td>\n      <td>NaN</td>\n    </tr>\n    <tr>\n      <th>104</th>\n      <td>2015</td>\n      <td>1</td>\n      <td>1</td>\n      <td>4</td>\n      <td>B6</td>\n      <td>727</td>\n      <td>N292JB</td>\n      <td>BOS</td>\n      <td>BWI</td>\n      <td>540</td>\n      <td>...</td>\n      <td>700.0</td>\n      <td>-21.0</td>\n      <td>0</td>\n      <td>0</td>\n      <td>NaN</td>\n      <td>NaN</td>\n      <td>NaN</td>\n      <td>NaN</td>\n      <td>NaN</td>\n      <td>NaN</td>\n    </tr>\n    <tr>\n      <th>108</th>\n      <td>2015</td>\n      <td>1</td>\n      <td>1</td>\n      <td>4</td>\n      <td>DL</td>\n      <td>2079</td>\n      <td>N389DA</td>\n      <td>BOS</td>\n      <td>DTW</td>\n      <td>540</td>\n      <td>...</td>\n      <td>742.0</td>\n      <td>-21.0</td>\n      <td>0</td>\n      <td>0</td>\n      <td>NaN</td>\n      <td>NaN</td>\n      <td>NaN</td>\n      <td>NaN</td>\n      <td>NaN</td>\n      <td>NaN</td>\n    </tr>\n    <tr>\n      <th>121</th>\n      <td>2015</td>\n      <td>1</td>\n      <td>1</td>\n      <td>4</td>\n      <td>B6</td>\n      <td>721</td>\n      <td>N623JB</td>\n      <td>BOS</td>\n      <td>PBI</td>\n      <td>545</td>\n      <td>...</td>\n      <td>901.0</td>\n      <td>-9.0</td>\n      <td>0</td>\n      <td>0</td>\n      <td>NaN</td>\n      <td>NaN</td>\n      <td>NaN</td>\n      <td>NaN</td>\n      <td>NaN</td>\n      <td>NaN</td>\n    </tr>\n  </tbody>\n</table>\n<p>5 rows × 31 columns</p>\n</div>"
     },
     "execution_count": 11,
     "metadata": {},
     "output_type": "execute_result"
    }
   ],
   "source": [
    "dataset_meta = DatasetMeta(SchemaName.FLIGHTS, FlightsDatasetName.DATASET5) # in this notebook the dataset was replaced to the original flights dataset (not binned)\n",
    "dataset = Dataset(dataset_meta)\n",
    "dataset_df = dataset.load_data()\n",
    "\n",
    "dataset_df.head()"
   ],
   "metadata": {
    "collapsed": false
   }
  },
  {
   "cell_type": "markdown",
   "source": [
    "### Queries"
   ],
   "metadata": {
    "collapsed": false
   }
  },
  {
   "cell_type": "code",
   "execution_count": 12,
   "metadata": {},
   "outputs": [
    {
     "data": {
      "text/plain": "         YEAR  MONTH  DAY  DAY_OF_WEEK AIRLINE  FLIGHT_NUMBER TAIL_NUMBER  \\\n2385688  2015      6    1            1      AA           1057      N3CEAA   \n2385693  2015      6    1            1      AA           1500      N3LHAA   \n2385706  2015      6    1            1      US           1852      N724UW   \n2385736  2015      6    1            1      AA           2454      N5CHAA   \n2385750  2015      6    1            1      NK            103      N633NK   \n...       ...    ...  ...          ...     ...            ...         ...   \n3919792  2015      8   31            1      AA           2134      N770UW   \n3919829  2015      8   31            1      B6            783      N324JB   \n3920086  2015      8   31            1      NK            109      N521NK   \n3920099  2015      8   31            1      WN            777      N441WN   \n3920755  2015      8   31            1      B6            261      N646JB   \n\n        ORIGIN_AIRPORT DESTINATION_AIRPORT  SCHEDULED_DEPARTURE  ...  \\\n2385688            BOS                 DFW                  500  ...   \n2385693            BOS                 ORD                  500  ...   \n2385706            BOS                 CLT                  500  ...   \n2385736            BOS                 MIA                  515  ...   \n2385750            BOS                 MYR                  515  ...   \n...                ...                 ...                  ...  ...   \n3919792            BOS                 DCA                 2100  ...   \n3919829            BOS                 RDU                 2101  ...   \n3920086            BOS                 DTW                 2135  ...   \n3920099            BOS                 BWI                 2140  ...   \n3920755            BOS                 SJU                 2359  ...   \n\n         ARRIVAL_TIME  ARRIVAL_DELAY  DIVERTED  CANCELLED  \\\n2385688         759.0          -19.0         0          0   \n2385693         652.0            2.0         0          0   \n2385706         703.0           -7.0         0          0   \n2385736         830.0           -5.0         0          0   \n2385750         953.0          151.0         0          0   \n...               ...            ...       ...        ...   \n3919792        2220.0          -14.0         0          0   \n3919829        2248.0           -6.0         0          0   \n3920086        2342.0           -4.0         0          0   \n3920099        2257.0          -18.0         0          0   \n3920755         347.0           -6.0         0          0   \n\n         CANCELLATION_REASON  AIR_SYSTEM_DELAY  SECURITY_DELAY  AIRLINE_DELAY  \\\n2385688                  NaN               NaN             NaN            NaN   \n2385693                  NaN               NaN             NaN            NaN   \n2385706                  NaN               NaN             NaN            NaN   \n2385736                  NaN               NaN             NaN            NaN   \n2385750                  NaN               0.0             0.0            0.0   \n...                      ...               ...             ...            ...   \n3919792                  NaN               NaN             NaN            NaN   \n3919829                  NaN               NaN             NaN            NaN   \n3920086                  NaN               NaN             NaN            NaN   \n3920099                  NaN               NaN             NaN            NaN   \n3920755                  NaN               NaN             NaN            NaN   \n\n         LATE_AIRCRAFT_DELAY  WEATHER_DELAY  \n2385688                  NaN            NaN  \n2385693                  NaN            NaN  \n2385706                  NaN            NaN  \n2385736                  NaN            NaN  \n2385750                151.0            0.0  \n...                      ...            ...  \n3919792                  NaN            NaN  \n3919829                  NaN            NaN  \n3920086                  NaN            NaN  \n3920099                  NaN            NaN  \n3920755                  NaN            NaN  \n\n[32108 rows x 31 columns]",
      "text/html": "<div>\n<style scoped>\n    .dataframe tbody tr th:only-of-type {\n        vertical-align: middle;\n    }\n\n    .dataframe tbody tr th {\n        vertical-align: top;\n    }\n\n    .dataframe thead th {\n        text-align: right;\n    }\n</style>\n<table border=\"1\" class=\"dataframe\">\n  <thead>\n    <tr style=\"text-align: right;\">\n      <th></th>\n      <th>YEAR</th>\n      <th>MONTH</th>\n      <th>DAY</th>\n      <th>DAY_OF_WEEK</th>\n      <th>AIRLINE</th>\n      <th>FLIGHT_NUMBER</th>\n      <th>TAIL_NUMBER</th>\n      <th>ORIGIN_AIRPORT</th>\n      <th>DESTINATION_AIRPORT</th>\n      <th>SCHEDULED_DEPARTURE</th>\n      <th>...</th>\n      <th>ARRIVAL_TIME</th>\n      <th>ARRIVAL_DELAY</th>\n      <th>DIVERTED</th>\n      <th>CANCELLED</th>\n      <th>CANCELLATION_REASON</th>\n      <th>AIR_SYSTEM_DELAY</th>\n      <th>SECURITY_DELAY</th>\n      <th>AIRLINE_DELAY</th>\n      <th>LATE_AIRCRAFT_DELAY</th>\n      <th>WEATHER_DELAY</th>\n    </tr>\n  </thead>\n  <tbody>\n    <tr>\n      <th>2385688</th>\n      <td>2015</td>\n      <td>6</td>\n      <td>1</td>\n      <td>1</td>\n      <td>AA</td>\n      <td>1057</td>\n      <td>N3CEAA</td>\n      <td>BOS</td>\n      <td>DFW</td>\n      <td>500</td>\n      <td>...</td>\n      <td>759.0</td>\n      <td>-19.0</td>\n      <td>0</td>\n      <td>0</td>\n      <td>NaN</td>\n      <td>NaN</td>\n      <td>NaN</td>\n      <td>NaN</td>\n      <td>NaN</td>\n      <td>NaN</td>\n    </tr>\n    <tr>\n      <th>2385693</th>\n      <td>2015</td>\n      <td>6</td>\n      <td>1</td>\n      <td>1</td>\n      <td>AA</td>\n      <td>1500</td>\n      <td>N3LHAA</td>\n      <td>BOS</td>\n      <td>ORD</td>\n      <td>500</td>\n      <td>...</td>\n      <td>652.0</td>\n      <td>2.0</td>\n      <td>0</td>\n      <td>0</td>\n      <td>NaN</td>\n      <td>NaN</td>\n      <td>NaN</td>\n      <td>NaN</td>\n      <td>NaN</td>\n      <td>NaN</td>\n    </tr>\n    <tr>\n      <th>2385706</th>\n      <td>2015</td>\n      <td>6</td>\n      <td>1</td>\n      <td>1</td>\n      <td>US</td>\n      <td>1852</td>\n      <td>N724UW</td>\n      <td>BOS</td>\n      <td>CLT</td>\n      <td>500</td>\n      <td>...</td>\n      <td>703.0</td>\n      <td>-7.0</td>\n      <td>0</td>\n      <td>0</td>\n      <td>NaN</td>\n      <td>NaN</td>\n      <td>NaN</td>\n      <td>NaN</td>\n      <td>NaN</td>\n      <td>NaN</td>\n    </tr>\n    <tr>\n      <th>2385736</th>\n      <td>2015</td>\n      <td>6</td>\n      <td>1</td>\n      <td>1</td>\n      <td>AA</td>\n      <td>2454</td>\n      <td>N5CHAA</td>\n      <td>BOS</td>\n      <td>MIA</td>\n      <td>515</td>\n      <td>...</td>\n      <td>830.0</td>\n      <td>-5.0</td>\n      <td>0</td>\n      <td>0</td>\n      <td>NaN</td>\n      <td>NaN</td>\n      <td>NaN</td>\n      <td>NaN</td>\n      <td>NaN</td>\n      <td>NaN</td>\n    </tr>\n    <tr>\n      <th>2385750</th>\n      <td>2015</td>\n      <td>6</td>\n      <td>1</td>\n      <td>1</td>\n      <td>NK</td>\n      <td>103</td>\n      <td>N633NK</td>\n      <td>BOS</td>\n      <td>MYR</td>\n      <td>515</td>\n      <td>...</td>\n      <td>953.0</td>\n      <td>151.0</td>\n      <td>0</td>\n      <td>0</td>\n      <td>NaN</td>\n      <td>0.0</td>\n      <td>0.0</td>\n      <td>0.0</td>\n      <td>151.0</td>\n      <td>0.0</td>\n    </tr>\n    <tr>\n      <th>...</th>\n      <td>...</td>\n      <td>...</td>\n      <td>...</td>\n      <td>...</td>\n      <td>...</td>\n      <td>...</td>\n      <td>...</td>\n      <td>...</td>\n      <td>...</td>\n      <td>...</td>\n      <td>...</td>\n      <td>...</td>\n      <td>...</td>\n      <td>...</td>\n      <td>...</td>\n      <td>...</td>\n      <td>...</td>\n      <td>...</td>\n      <td>...</td>\n      <td>...</td>\n      <td>...</td>\n    </tr>\n    <tr>\n      <th>3919792</th>\n      <td>2015</td>\n      <td>8</td>\n      <td>31</td>\n      <td>1</td>\n      <td>AA</td>\n      <td>2134</td>\n      <td>N770UW</td>\n      <td>BOS</td>\n      <td>DCA</td>\n      <td>2100</td>\n      <td>...</td>\n      <td>2220.0</td>\n      <td>-14.0</td>\n      <td>0</td>\n      <td>0</td>\n      <td>NaN</td>\n      <td>NaN</td>\n      <td>NaN</td>\n      <td>NaN</td>\n      <td>NaN</td>\n      <td>NaN</td>\n    </tr>\n    <tr>\n      <th>3919829</th>\n      <td>2015</td>\n      <td>8</td>\n      <td>31</td>\n      <td>1</td>\n      <td>B6</td>\n      <td>783</td>\n      <td>N324JB</td>\n      <td>BOS</td>\n      <td>RDU</td>\n      <td>2101</td>\n      <td>...</td>\n      <td>2248.0</td>\n      <td>-6.0</td>\n      <td>0</td>\n      <td>0</td>\n      <td>NaN</td>\n      <td>NaN</td>\n      <td>NaN</td>\n      <td>NaN</td>\n      <td>NaN</td>\n      <td>NaN</td>\n    </tr>\n    <tr>\n      <th>3920086</th>\n      <td>2015</td>\n      <td>8</td>\n      <td>31</td>\n      <td>1</td>\n      <td>NK</td>\n      <td>109</td>\n      <td>N521NK</td>\n      <td>BOS</td>\n      <td>DTW</td>\n      <td>2135</td>\n      <td>...</td>\n      <td>2342.0</td>\n      <td>-4.0</td>\n      <td>0</td>\n      <td>0</td>\n      <td>NaN</td>\n      <td>NaN</td>\n      <td>NaN</td>\n      <td>NaN</td>\n      <td>NaN</td>\n      <td>NaN</td>\n    </tr>\n    <tr>\n      <th>3920099</th>\n      <td>2015</td>\n      <td>8</td>\n      <td>31</td>\n      <td>1</td>\n      <td>WN</td>\n      <td>777</td>\n      <td>N441WN</td>\n      <td>BOS</td>\n      <td>BWI</td>\n      <td>2140</td>\n      <td>...</td>\n      <td>2257.0</td>\n      <td>-18.0</td>\n      <td>0</td>\n      <td>0</td>\n      <td>NaN</td>\n      <td>NaN</td>\n      <td>NaN</td>\n      <td>NaN</td>\n      <td>NaN</td>\n      <td>NaN</td>\n    </tr>\n    <tr>\n      <th>3920755</th>\n      <td>2015</td>\n      <td>8</td>\n      <td>31</td>\n      <td>1</td>\n      <td>B6</td>\n      <td>261</td>\n      <td>N646JB</td>\n      <td>BOS</td>\n      <td>SJU</td>\n      <td>2359</td>\n      <td>...</td>\n      <td>347.0</td>\n      <td>-6.0</td>\n      <td>0</td>\n      <td>0</td>\n      <td>NaN</td>\n      <td>NaN</td>\n      <td>NaN</td>\n      <td>NaN</td>\n      <td>NaN</td>\n      <td>NaN</td>\n    </tr>\n  </tbody>\n</table>\n<p>32108 rows × 31 columns</p>\n</div>"
     },
     "execution_count": 12,
     "metadata": {},
     "output_type": "execute_result"
    }
   ],
   "source": [
    "# Filter for flights in the summer (June, July, August)\n",
    "summer_flights = dataset_df[dataset_df['MONTH'].isin([6, 7, 8])]\n",
    "summer_flights"
   ]
  },
  {
   "cell_type": "code",
   "execution_count": 13,
   "outputs": [
    {
     "name": "stdout",
     "output_type": "stream",
     "text": [
      "Average departure delay by airline in the summer:\n",
      "AIRLINE\n",
      "AA     5.501560\n",
      "AS     2.644880\n",
      "B6    10.464491\n",
      "DL    11.612728\n",
      "EV     9.484536\n",
      "NK    18.601942\n",
      "OO     9.578125\n",
      "UA    19.788725\n",
      "US     4.755291\n",
      "VX     8.446996\n",
      "WN    14.886768\n",
      "Name: DEPARTURE_DELAY, dtype: float64\n"
     ]
    }
   ],
   "source": [
    "# Calculate average departure delay for each airline\n",
    "avg_delay_by_airline = summer_flights.groupby('AIRLINE')['DEPARTURE_DELAY'].mean()\n",
    "print(\"Average departure delay by airline in the summer:\")\n",
    "print(avg_delay_by_airline)"
   ],
   "metadata": {
    "collapsed": false
   }
  },
  {
   "cell_type": "code",
   "execution_count": 14,
   "metadata": {},
   "outputs": [
    {
     "name": "stdout",
     "output_type": "stream",
     "text": [
      "Total number of flights by airline in the summer:\n",
      "B6    10983\n",
      "AA     6183\n",
      "DL     4067\n",
      "UA     3624\n",
      "WN     3181\n",
      "US     1552\n",
      "NK      736\n",
      "EV      689\n",
      "VX      569\n",
      "AS      460\n",
      "OO       64\n",
      "Name: AIRLINE, dtype: int64\n"
     ]
    }
   ],
   "source": [
    "# Calculate the total number of flights for each airline\n",
    "num_flights_by_airline = summer_flights['AIRLINE'].value_counts()\n",
    "print(\"Total number of flights by airline in the summer:\")\n",
    "print(num_flights_by_airline)"
   ]
  },
  {
   "cell_type": "code",
   "execution_count": 15,
   "outputs": [
    {
     "name": "stdout",
     "output_type": "stream",
     "text": [
      "Percentage of delayed flights by airline in the summer:\n",
      "AA    0.273168\n",
      "AS    0.284783\n",
      "B6    0.377857\n",
      "DL    0.386280\n",
      "EV    0.298984\n",
      "NK    0.455163\n",
      "OO    0.359375\n",
      "UA    0.636865\n",
      "US    0.233247\n",
      "VX    0.409490\n",
      "WN    0.474065\n",
      "Name: AIRLINE, dtype: float64\n"
     ]
    }
   ],
   "source": [
    "# Calculate the percentage of delayed flights for each airline\n",
    "delayed_flights_by_airline = summer_flights[summer_flights['DEPARTURE_DELAY'] > 0]['AIRLINE'].value_counts() / num_flights_by_airline\n",
    "print(\"Percentage of delayed flights by airline in the summer:\")\n",
    "print(delayed_flights_by_airline)"
   ],
   "metadata": {
    "collapsed": false
   }
  }
 ],
 "metadata": {
  "kernelspec": {
   "display_name": "Python 3",
   "language": "python",
   "name": "python3"
  },
  "language_info": {
   "codemirror_mode": {
    "name": "ipython",
    "version": 3
   },
   "file_extension": ".py",
   "mimetype": "text/x-python",
   "name": "python",
   "nbconvert_exporter": "python",
   "pygments_lexer": "ipython3",
   "version": "3.7.6"
  }
 },
 "nbformat": 4,
 "nbformat_minor": 4
}
