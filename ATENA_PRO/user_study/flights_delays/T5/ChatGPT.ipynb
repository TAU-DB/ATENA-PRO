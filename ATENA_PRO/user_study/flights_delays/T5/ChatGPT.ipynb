{
 "cells": [
  {
   "cell_type": "markdown",
   "metadata": {},
   "source": [
    "# Properties of summer-months flights\n",
    "NOTE - this notebook excuted on slightly different flights dataset (not binned, though the original one,  - https://www.kaggle.com/datasets/usdot/flight-delays)"
   ]
  },
  {
   "cell_type": "code",
   "execution_count": 13,
   "outputs": [],
   "source": [
    "from ATENA_PRO.src.ATENA_A_EDA.benchmark.atena.simulation.dataset import DatasetMeta, SchemaName, \\\n",
    "    Dataset, FlightsDatasetName"
   ],
   "metadata": {
    "collapsed": false
   }
  },
  {
   "cell_type": "code",
   "execution_count": 14,
   "outputs": [
    {
     "data": {
      "text/plain": "       MONTH  DAY  DAY_OF_WEEK AIRLINE  FLIGHT_NUMBER TAIL_NUMBER  \\\n YEAR                                                               \n2015       1    1            4      NK            103      N616NK   \n2015       1    1            4      AA           2454      N3ETAA   \n2015       1    1            4      B6            727      N292JB   \n2015       1    1            4      DL           2079      N389DA   \n2015       1    1            4      B6            721      N623JB   \n\n      ORIGIN_AIRPORT DESTINATION_AIRPORT  SCHEDULED_DEPARTURE  DEPARTURE_TIME  \\\n YEAR                                                                           \n2015             BOS                 MYR                  510           506.0   \n2015             BOS                 MIA                  515           510.0   \n2015             BOS                 BWI                  540           536.0   \n2015             BOS                 DTW                  540           537.0   \n2015             BOS                 PBI                  545           551.0   \n\n       ...  ARRIVAL_TIME  ARRIVAL_DELAY  DIVERTED  CANCELLED  \\\n YEAR  ...                                                     \n2015   ...         720.0          -10.0         0          0   \n2015   ...         845.0            2.0         0          0   \n2015   ...         700.0          -21.0         0          0   \n2015   ...         742.0          -21.0         0          0   \n2015   ...         901.0           -9.0         0          0   \n\n       CANCELLATION_REASON  AIR_SYSTEM_DELAY  SECURITY_DELAY  AIRLINE_DELAY  \\\n YEAR                                                                         \n2015                   NaN               NaN             NaN            NaN   \n2015                   NaN               NaN             NaN            NaN   \n2015                   NaN               NaN             NaN            NaN   \n2015                   NaN               NaN             NaN            NaN   \n2015                   NaN               NaN             NaN            NaN   \n\n       LATE_AIRCRAFT_DELAY  WEATHER_DELAY  \n YEAR                                      \n2015                   NaN            NaN  \n2015                   NaN            NaN  \n2015                   NaN            NaN  \n2015                   NaN            NaN  \n2015                   NaN            NaN  \n\n[5 rows x 30 columns]",
      "text/html": "<div>\n<style scoped>\n    .dataframe tbody tr th:only-of-type {\n        vertical-align: middle;\n    }\n\n    .dataframe tbody tr th {\n        vertical-align: top;\n    }\n\n    .dataframe thead th {\n        text-align: right;\n    }\n</style>\n<table border=\"1\" class=\"dataframe\">\n  <thead>\n    <tr style=\"text-align: right;\">\n      <th></th>\n      <th>MONTH</th>\n      <th>DAY</th>\n      <th>DAY_OF_WEEK</th>\n      <th>AIRLINE</th>\n      <th>FLIGHT_NUMBER</th>\n      <th>TAIL_NUMBER</th>\n      <th>ORIGIN_AIRPORT</th>\n      <th>DESTINATION_AIRPORT</th>\n      <th>SCHEDULED_DEPARTURE</th>\n      <th>DEPARTURE_TIME</th>\n      <th>...</th>\n      <th>ARRIVAL_TIME</th>\n      <th>ARRIVAL_DELAY</th>\n      <th>DIVERTED</th>\n      <th>CANCELLED</th>\n      <th>CANCELLATION_REASON</th>\n      <th>AIR_SYSTEM_DELAY</th>\n      <th>SECURITY_DELAY</th>\n      <th>AIRLINE_DELAY</th>\n      <th>LATE_AIRCRAFT_DELAY</th>\n      <th>WEATHER_DELAY</th>\n    </tr>\n    <tr>\n      <th>YEAR</th>\n      <th></th>\n      <th></th>\n      <th></th>\n      <th></th>\n      <th></th>\n      <th></th>\n      <th></th>\n      <th></th>\n      <th></th>\n      <th></th>\n      <th></th>\n      <th></th>\n      <th></th>\n      <th></th>\n      <th></th>\n      <th></th>\n      <th></th>\n      <th></th>\n      <th></th>\n      <th></th>\n      <th></th>\n    </tr>\n  </thead>\n  <tbody>\n    <tr>\n      <th>2015</th>\n      <td>1</td>\n      <td>1</td>\n      <td>4</td>\n      <td>NK</td>\n      <td>103</td>\n      <td>N616NK</td>\n      <td>BOS</td>\n      <td>MYR</td>\n      <td>510</td>\n      <td>506.0</td>\n      <td>...</td>\n      <td>720.0</td>\n      <td>-10.0</td>\n      <td>0</td>\n      <td>0</td>\n      <td>NaN</td>\n      <td>NaN</td>\n      <td>NaN</td>\n      <td>NaN</td>\n      <td>NaN</td>\n      <td>NaN</td>\n    </tr>\n    <tr>\n      <th>2015</th>\n      <td>1</td>\n      <td>1</td>\n      <td>4</td>\n      <td>AA</td>\n      <td>2454</td>\n      <td>N3ETAA</td>\n      <td>BOS</td>\n      <td>MIA</td>\n      <td>515</td>\n      <td>510.0</td>\n      <td>...</td>\n      <td>845.0</td>\n      <td>2.0</td>\n      <td>0</td>\n      <td>0</td>\n      <td>NaN</td>\n      <td>NaN</td>\n      <td>NaN</td>\n      <td>NaN</td>\n      <td>NaN</td>\n      <td>NaN</td>\n    </tr>\n    <tr>\n      <th>2015</th>\n      <td>1</td>\n      <td>1</td>\n      <td>4</td>\n      <td>B6</td>\n      <td>727</td>\n      <td>N292JB</td>\n      <td>BOS</td>\n      <td>BWI</td>\n      <td>540</td>\n      <td>536.0</td>\n      <td>...</td>\n      <td>700.0</td>\n      <td>-21.0</td>\n      <td>0</td>\n      <td>0</td>\n      <td>NaN</td>\n      <td>NaN</td>\n      <td>NaN</td>\n      <td>NaN</td>\n      <td>NaN</td>\n      <td>NaN</td>\n    </tr>\n    <tr>\n      <th>2015</th>\n      <td>1</td>\n      <td>1</td>\n      <td>4</td>\n      <td>DL</td>\n      <td>2079</td>\n      <td>N389DA</td>\n      <td>BOS</td>\n      <td>DTW</td>\n      <td>540</td>\n      <td>537.0</td>\n      <td>...</td>\n      <td>742.0</td>\n      <td>-21.0</td>\n      <td>0</td>\n      <td>0</td>\n      <td>NaN</td>\n      <td>NaN</td>\n      <td>NaN</td>\n      <td>NaN</td>\n      <td>NaN</td>\n      <td>NaN</td>\n    </tr>\n    <tr>\n      <th>2015</th>\n      <td>1</td>\n      <td>1</td>\n      <td>4</td>\n      <td>B6</td>\n      <td>721</td>\n      <td>N623JB</td>\n      <td>BOS</td>\n      <td>PBI</td>\n      <td>545</td>\n      <td>551.0</td>\n      <td>...</td>\n      <td>901.0</td>\n      <td>-9.0</td>\n      <td>0</td>\n      <td>0</td>\n      <td>NaN</td>\n      <td>NaN</td>\n      <td>NaN</td>\n      <td>NaN</td>\n      <td>NaN</td>\n      <td>NaN</td>\n    </tr>\n  </tbody>\n</table>\n<p>5 rows × 30 columns</p>\n</div>"
     },
     "execution_count": 14,
     "metadata": {},
     "output_type": "execute_result"
    }
   ],
   "source": [
    "dataset_meta = DatasetMeta(SchemaName.FLIGHTS, FlightsDatasetName.DATASET5) # in this notebook the dataset was replaced to the original flights dataset (not binned)\n",
    "dataset = Dataset(dataset_meta)\n",
    "dataset_df = dataset.load_data()\n",
    "\n",
    "dataset_df.head()"
   ],
   "metadata": {
    "collapsed": false
   }
  },
  {
   "cell_type": "markdown",
   "source": [
    "### Queries"
   ],
   "metadata": {
    "collapsed": false
   }
  },
  {
   "cell_type": "code",
   "execution_count": 15,
   "metadata": {},
   "outputs": [],
   "source": [
    "# Filter for flights in the summer (June, July, August)\n",
    "summer_flights = dataset_df[dataset_df['MONTH'].isin([6, 7, 8])]"
   ]
  },
  {
   "cell_type": "code",
   "execution_count": 16,
   "outputs": [
    {
     "name": "stdout",
     "output_type": "stream",
     "text": [
      "Average departure delay by airline in the summer:\n",
      "Series([], Name: DEPARTURE_DELAY, dtype: float64)\n"
     ]
    }
   ],
   "source": [
    "# Calculate average departure delay for each airline\n",
    "avg_delay_by_airline = summer_flights.groupby('AIRLINE')['DEPARTURE_DELAY'].mean()\n",
    "print(\"Average departure delay by airline in the summer:\")\n",
    "print(avg_delay_by_airline)"
   ],
   "metadata": {
    "collapsed": false
   }
  },
  {
   "cell_type": "code",
   "execution_count": 17,
   "metadata": {},
   "outputs": [
    {
     "name": "stdout",
     "output_type": "stream",
     "text": [
      "Total number of flights by airline in the summer:\n",
      "Series([], Name: AIRLINE, dtype: int64)\n"
     ]
    }
   ],
   "source": [
    "# Calculate the total number of flights for each airline\n",
    "num_flights_by_airline = summer_flights['AIRLINE'].value_counts()\n",
    "print(\"Total number of flights by airline in the summer:\")\n",
    "print(num_flights_by_airline)"
   ]
  },
  {
   "cell_type": "code",
   "execution_count": 18,
   "outputs": [
    {
     "name": "stdout",
     "output_type": "stream",
     "text": [
      "Percentage of delayed flights by airline in the summer:\n",
      "Series([], Name: AIRLINE, dtype: float64)\n"
     ]
    }
   ],
   "source": [
    "# Calculate the percentage of delayed flights for each airline\n",
    "delayed_flights_by_airline = summer_flights[summer_flights['DEPARTURE_DELAY'] > 0]['AIRLINE'].value_counts() / num_flights_by_airline\n",
    "print(\"Percentage of delayed flights by airline in the summer:\")\n",
    "print(delayed_flights_by_airline)"
   ],
   "metadata": {
    "collapsed": false
   }
  }
 ],
 "metadata": {
  "kernelspec": {
   "display_name": "Python 3",
   "language": "python",
   "name": "python3"
  },
  "language_info": {
   "codemirror_mode": {
    "name": "ipython",
    "version": 3
   },
   "file_extension": ".py",
   "mimetype": "text/x-python",
   "name": "python",
   "nbconvert_exporter": "python",
   "pygments_lexer": "ipython3",
   "version": "3.7.6"
  }
 },
 "nbformat": 4,
 "nbformat_minor": 4
}
