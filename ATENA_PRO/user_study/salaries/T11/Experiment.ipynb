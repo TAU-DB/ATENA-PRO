{
 "cells": [
  {
   "cell_type": "markdown",
   "metadata": {},
   "source": [
    "# High salaried employees"
   ]
  },
  {
   "cell_type": "code",
   "execution_count": 1,
   "outputs": [],
   "source": [
    "from ATENA_PRO.src.ATENA_A_EDA.benchmark.atena.simulation.dataset import DatasetMeta, SchemaName, \\\n",
    "    Dataset, SalariesDatasetName"
   ],
   "metadata": {
    "collapsed": false
   }
  },
  {
   "cell_type": "code",
   "execution_count": 2,
   "outputs": [
    {
     "data": {
      "text/plain": "          experience_level employment_type                 job_title  salary  \\\nwork_year                                                                      \n2023                    SE              FT  Principal Data Scientist   80000   \n2023                    MI              CT               ML Engineer   30000   \n2023                    MI              CT               ML Engineer   25500   \n2023                    SE              FT            Data Scientist  175000   \n2023                    SE              FT            Data Scientist  120000   \n\n          salary_currency  salary_in_usd employee_residence  remote_ratio  \\\nwork_year                                                                   \n2023                  EUR          85847                 ES           100   \n2023                  USD          30000                 US           100   \n2023                  USD          25500                 US           100   \n2023                  USD         175000                 CA           100   \n2023                  USD         120000                 CA           100   \n\n          company_location company_size  \nwork_year                                \n2023                    ES            L  \n2023                    US            S  \n2023                    US            S  \n2023                    CA            M  \n2023                    CA            M  ",
      "text/html": "<div>\n<style scoped>\n    .dataframe tbody tr th:only-of-type {\n        vertical-align: middle;\n    }\n\n    .dataframe tbody tr th {\n        vertical-align: top;\n    }\n\n    .dataframe thead th {\n        text-align: right;\n    }\n</style>\n<table border=\"1\" class=\"dataframe\">\n  <thead>\n    <tr style=\"text-align: right;\">\n      <th></th>\n      <th>experience_level</th>\n      <th>employment_type</th>\n      <th>job_title</th>\n      <th>salary</th>\n      <th>salary_currency</th>\n      <th>salary_in_usd</th>\n      <th>employee_residence</th>\n      <th>remote_ratio</th>\n      <th>company_location</th>\n      <th>company_size</th>\n    </tr>\n    <tr>\n      <th>work_year</th>\n      <th></th>\n      <th></th>\n      <th></th>\n      <th></th>\n      <th></th>\n      <th></th>\n      <th></th>\n      <th></th>\n      <th></th>\n      <th></th>\n    </tr>\n  </thead>\n  <tbody>\n    <tr>\n      <th>2023</th>\n      <td>SE</td>\n      <td>FT</td>\n      <td>Principal Data Scientist</td>\n      <td>80000</td>\n      <td>EUR</td>\n      <td>85847</td>\n      <td>ES</td>\n      <td>100</td>\n      <td>ES</td>\n      <td>L</td>\n    </tr>\n    <tr>\n      <th>2023</th>\n      <td>MI</td>\n      <td>CT</td>\n      <td>ML Engineer</td>\n      <td>30000</td>\n      <td>USD</td>\n      <td>30000</td>\n      <td>US</td>\n      <td>100</td>\n      <td>US</td>\n      <td>S</td>\n    </tr>\n    <tr>\n      <th>2023</th>\n      <td>MI</td>\n      <td>CT</td>\n      <td>ML Engineer</td>\n      <td>25500</td>\n      <td>USD</td>\n      <td>25500</td>\n      <td>US</td>\n      <td>100</td>\n      <td>US</td>\n      <td>S</td>\n    </tr>\n    <tr>\n      <th>2023</th>\n      <td>SE</td>\n      <td>FT</td>\n      <td>Data Scientist</td>\n      <td>175000</td>\n      <td>USD</td>\n      <td>175000</td>\n      <td>CA</td>\n      <td>100</td>\n      <td>CA</td>\n      <td>M</td>\n    </tr>\n    <tr>\n      <th>2023</th>\n      <td>SE</td>\n      <td>FT</td>\n      <td>Data Scientist</td>\n      <td>120000</td>\n      <td>USD</td>\n      <td>120000</td>\n      <td>CA</td>\n      <td>100</td>\n      <td>CA</td>\n      <td>M</td>\n    </tr>\n  </tbody>\n</table>\n</div>"
     },
     "execution_count": 2,
     "metadata": {},
     "output_type": "execute_result"
    }
   ],
   "source": [
    "dataset_meta = DatasetMeta(SchemaName.SALARIES, SalariesDatasetName.DATASET1)\n",
    "dataset = Dataset(dataset_meta)\n",
    "dataset_df = dataset.load_data()\n",
    "\n",
    "dataset_df.head()"
   ],
   "metadata": {
    "collapsed": false
   }
  },
  {
   "cell_type": "markdown",
   "source": [
    "### Queries"
   ],
   "metadata": {
    "collapsed": false
   }
  },
  {
   "cell_type": "code",
   "execution_count": 9,
   "metadata": {},
   "outputs": [
    {
     "data": {
      "text/plain": "          experience_level employment_type                       job_title  \\\nwork_year                                                                    \n2023                    SE              FT               Applied Scientist   \n2023                    SE              FT               Research Engineer   \n2023                    SE              FT              Analytics Engineer   \n2023                    SE              FT  Business Intelligence Engineer   \n2023                    SE              FT                   Data Engineer   \n\n           salary salary_currency  salary_in_usd employee_residence  \\\nwork_year                                                             \n2023       222200             USD         222200                 US   \n2023       275000             USD         275000                 DE   \n2023       230000             USD         230000                 GB   \n2023       225000             USD         225000                 US   \n2023       253200             USD         253200                 US   \n\n           remote_ratio company_location company_size  \nwork_year                                              \n2023                  0               US            L  \n2023                  0               DE            M  \n2023                100               GB            M  \n2023                  0               US            M  \n2023                  0               US            M  ",
      "text/html": "<div>\n<style scoped>\n    .dataframe tbody tr th:only-of-type {\n        vertical-align: middle;\n    }\n\n    .dataframe tbody tr th {\n        vertical-align: top;\n    }\n\n    .dataframe thead th {\n        text-align: right;\n    }\n</style>\n<table border=\"1\" class=\"dataframe\">\n  <thead>\n    <tr style=\"text-align: right;\">\n      <th></th>\n      <th>experience_level</th>\n      <th>employment_type</th>\n      <th>job_title</th>\n      <th>salary</th>\n      <th>salary_currency</th>\n      <th>salary_in_usd</th>\n      <th>employee_residence</th>\n      <th>remote_ratio</th>\n      <th>company_location</th>\n      <th>company_size</th>\n    </tr>\n    <tr>\n      <th>work_year</th>\n      <th></th>\n      <th></th>\n      <th></th>\n      <th></th>\n      <th></th>\n      <th></th>\n      <th></th>\n      <th></th>\n      <th></th>\n      <th></th>\n    </tr>\n  </thead>\n  <tbody>\n    <tr>\n      <th>2023</th>\n      <td>SE</td>\n      <td>FT</td>\n      <td>Applied Scientist</td>\n      <td>222200</td>\n      <td>USD</td>\n      <td>222200</td>\n      <td>US</td>\n      <td>0</td>\n      <td>US</td>\n      <td>L</td>\n    </tr>\n    <tr>\n      <th>2023</th>\n      <td>SE</td>\n      <td>FT</td>\n      <td>Research Engineer</td>\n      <td>275000</td>\n      <td>USD</td>\n      <td>275000</td>\n      <td>DE</td>\n      <td>0</td>\n      <td>DE</td>\n      <td>M</td>\n    </tr>\n    <tr>\n      <th>2023</th>\n      <td>SE</td>\n      <td>FT</td>\n      <td>Analytics Engineer</td>\n      <td>230000</td>\n      <td>USD</td>\n      <td>230000</td>\n      <td>GB</td>\n      <td>100</td>\n      <td>GB</td>\n      <td>M</td>\n    </tr>\n    <tr>\n      <th>2023</th>\n      <td>SE</td>\n      <td>FT</td>\n      <td>Business Intelligence Engineer</td>\n      <td>225000</td>\n      <td>USD</td>\n      <td>225000</td>\n      <td>US</td>\n      <td>0</td>\n      <td>US</td>\n      <td>M</td>\n    </tr>\n    <tr>\n      <th>2023</th>\n      <td>SE</td>\n      <td>FT</td>\n      <td>Data Engineer</td>\n      <td>253200</td>\n      <td>USD</td>\n      <td>253200</td>\n      <td>US</td>\n      <td>0</td>\n      <td>US</td>\n      <td>M</td>\n    </tr>\n  </tbody>\n</table>\n</div>"
     },
     "execution_count": 9,
     "metadata": {},
     "output_type": "execute_result"
    }
   ],
   "source": [
    "# filter for employees with salary above 219,000\n",
    "high_salary = dataset_df[dataset_df['salary_in_usd'] > 219000]\n",
    "high_salary.head()"
   ]
  },
  {
   "cell_type": "code",
   "execution_count": 10,
   "outputs": [
    {
     "data": {
      "text/plain": "             salary  salary_in_usd  remote_ratio\ncount  3.750000e+02     375.000000    375.000000\nmean   2.617837e+05  259129.821333     39.066667\nstd    7.485013e+04   40274.157452     48.373915\nmin    2.195350e+05  219535.000000      0.000000\n25%    2.302000e+05  230200.000000      0.000000\n50%    2.495000e+05  249500.000000      0.000000\n75%    2.750000e+05  275000.000000    100.000000\nmax    1.500000e+06  450000.000000    100.000000",
      "text/html": "<div>\n<style scoped>\n    .dataframe tbody tr th:only-of-type {\n        vertical-align: middle;\n    }\n\n    .dataframe tbody tr th {\n        vertical-align: top;\n    }\n\n    .dataframe thead th {\n        text-align: right;\n    }\n</style>\n<table border=\"1\" class=\"dataframe\">\n  <thead>\n    <tr style=\"text-align: right;\">\n      <th></th>\n      <th>salary</th>\n      <th>salary_in_usd</th>\n      <th>remote_ratio</th>\n    </tr>\n  </thead>\n  <tbody>\n    <tr>\n      <th>count</th>\n      <td>3.750000e+02</td>\n      <td>375.000000</td>\n      <td>375.000000</td>\n    </tr>\n    <tr>\n      <th>mean</th>\n      <td>2.617837e+05</td>\n      <td>259129.821333</td>\n      <td>39.066667</td>\n    </tr>\n    <tr>\n      <th>std</th>\n      <td>7.485013e+04</td>\n      <td>40274.157452</td>\n      <td>48.373915</td>\n    </tr>\n    <tr>\n      <th>min</th>\n      <td>2.195350e+05</td>\n      <td>219535.000000</td>\n      <td>0.000000</td>\n    </tr>\n    <tr>\n      <th>25%</th>\n      <td>2.302000e+05</td>\n      <td>230200.000000</td>\n      <td>0.000000</td>\n    </tr>\n    <tr>\n      <th>50%</th>\n      <td>2.495000e+05</td>\n      <td>249500.000000</td>\n      <td>0.000000</td>\n    </tr>\n    <tr>\n      <th>75%</th>\n      <td>2.750000e+05</td>\n      <td>275000.000000</td>\n      <td>100.000000</td>\n    </tr>\n    <tr>\n      <th>max</th>\n      <td>1.500000e+06</td>\n      <td>450000.000000</td>\n      <td>100.000000</td>\n    </tr>\n  </tbody>\n</table>\n</div>"
     },
     "execution_count": 10,
     "metadata": {},
     "output_type": "execute_result"
    }
   ],
   "source": [
    "# calculate summary statistics for numeric columns\n",
    "high_salary.describe()"
   ],
   "metadata": {
    "collapsed": false
   }
  },
  {
   "cell_type": "code",
   "execution_count": 11,
   "outputs": [
    {
     "data": {
      "text/plain": "Data Engineer                         125\nData Scientist                         72\nMachine Learning Engineer              36\nData Science Manager                   21\nApplied Scientist                      15\nResearch Scientist                     13\nAnalytics Engineer                     12\nData Architect                         11\nML Engineer                             9\nMachine Learning Scientist              7\nResearch Engineer                       7\nData Analyst                            7\nComputer Vision Engineer                4\nHead of Data                            4\nDirector of Data Science                4\nMachine Learning Software Engineer      4\nPrincipal Data Scientist                3\nETL Developer                           3\nAI Developer                            2\nNLP Engineer                            2\nHead of Data Science                    2\nData Science Lead                       2\nData Lead                               1\nData Science Tech Lead                  1\nBusiness Intelligence Engineer          1\nCloud Data Architect                    1\nData Specialist                         1\nData Analytics Lead                     1\nApplied Data Scientist                  1\nAI Scientist                            1\nLead Data Engineer                      1\nApplied Machine Learning Scientist      1\nName: job_title, dtype: int64"
     },
     "execution_count": 11,
     "metadata": {},
     "output_type": "execute_result"
    }
   ],
   "source": [
    "# count the number of employees in each job title\n",
    "high_salary['job_title'].value_counts()"
   ],
   "metadata": {
    "collapsed": false
   }
  }
 ],
 "metadata": {
  "kernelspec": {
   "display_name": "Python 3",
   "language": "python",
   "name": "python3"
  },
  "language_info": {
   "codemirror_mode": {
    "name": "ipython",
    "version": 3
   },
   "file_extension": ".py",
   "mimetype": "text/x-python",
   "name": "python",
   "nbconvert_exporter": "python",
   "pygments_lexer": "ipython3",
   "version": "3.7.6"
  }
 },
 "nbformat": 4,
 "nbformat_minor": 4
}
