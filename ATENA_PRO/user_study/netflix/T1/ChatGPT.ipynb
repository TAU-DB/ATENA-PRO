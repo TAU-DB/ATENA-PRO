{
 "cells": [
  {
   "cell_type": "markdown",
   "metadata": {},
   "source": [
    "# Atypical country"
   ]
  },
  {
   "cell_type": "code",
   "execution_count": 3,
   "outputs": [],
   "source": [
    "from ATENA_PRO.src.ATENA_A_EDA.benchmark.atena.simulation.dataset import DatasetMeta, SchemaName, NetflixDatasetName, \\\n",
    "    Dataset"
   ],
   "metadata": {
    "collapsed": false
   }
  },
  {
   "cell_type": "code",
   "execution_count": 4,
   "outputs": [
    {
     "data": {
      "text/plain": "   show_id     type  title           director  \\\n1        1  TV Show     3%                NaN   \n2        2    Movie   7:19  Jorge Michel Grau   \n3        3    Movie  23:59       Gilbert Chan   \n4        4    Movie      9        Shane Acker   \n5        5    Movie     21     Robert Luketic   \n\n                                                cast        country  \\\n1  João Miguel, Bianca Comparato, Michel Gomes, R...         Brazil   \n2  Demián Bichir, Héctor Bonilla, Oscar Serrano, ...         Mexico   \n3  Tedd Chan, Stella Chung, Henley Hii, Lawrence ...      Singapore   \n4  Elijah Wood, John C. Reilly, Jennifer Connelly...  United States   \n5  Jim Sturgess, Kevin Spacey, Kate Bosworth, Aar...  United States   \n\n          date_added  release_year rating   duration  \\\n1    August 14, 2020          2020  TV-MA  4 Seasons   \n2  December 23, 2016          2016  TV-MA     93 min   \n3  December 20, 2018          2011      R     78 min   \n4  November 16, 2017          2009  PG-13     80 min   \n5    January 1, 2020          2008  PG-13    123 min   \n\n                                           listed_in  \\\n1  International TV Shows, TV Dramas, TV Sci-Fi &...   \n2                       Dramas, International Movies   \n3                Horror Movies, International Movies   \n4  Action & Adventure, Independent Movies, Sci-Fi...   \n5                                             Dramas   \n\n                                         description  \n1  In a future where the elite inhabit an island ...  \n2  After a devastating earthquake hits Mexico Cit...  \n3  When an army recruit is found dead, his fellow...  \n4  In a postapocalyptic world, rag-doll robots hi...  \n5  A brilliant group of students become card-coun...  ",
      "text/html": "<div>\n<style scoped>\n    .dataframe tbody tr th:only-of-type {\n        vertical-align: middle;\n    }\n\n    .dataframe tbody tr th {\n        vertical-align: top;\n    }\n\n    .dataframe thead th {\n        text-align: right;\n    }\n</style>\n<table border=\"1\" class=\"dataframe\">\n  <thead>\n    <tr style=\"text-align: right;\">\n      <th></th>\n      <th>show_id</th>\n      <th>type</th>\n      <th>title</th>\n      <th>director</th>\n      <th>cast</th>\n      <th>country</th>\n      <th>date_added</th>\n      <th>release_year</th>\n      <th>rating</th>\n      <th>duration</th>\n      <th>listed_in</th>\n      <th>description</th>\n    </tr>\n  </thead>\n  <tbody>\n    <tr>\n      <th>1</th>\n      <td>1</td>\n      <td>TV Show</td>\n      <td>3%</td>\n      <td>NaN</td>\n      <td>João Miguel, Bianca Comparato, Michel Gomes, R...</td>\n      <td>Brazil</td>\n      <td>August 14, 2020</td>\n      <td>2020</td>\n      <td>TV-MA</td>\n      <td>4 Seasons</td>\n      <td>International TV Shows, TV Dramas, TV Sci-Fi &amp;...</td>\n      <td>In a future where the elite inhabit an island ...</td>\n    </tr>\n    <tr>\n      <th>2</th>\n      <td>2</td>\n      <td>Movie</td>\n      <td>7:19</td>\n      <td>Jorge Michel Grau</td>\n      <td>Demián Bichir, Héctor Bonilla, Oscar Serrano, ...</td>\n      <td>Mexico</td>\n      <td>December 23, 2016</td>\n      <td>2016</td>\n      <td>TV-MA</td>\n      <td>93 min</td>\n      <td>Dramas, International Movies</td>\n      <td>After a devastating earthquake hits Mexico Cit...</td>\n    </tr>\n    <tr>\n      <th>3</th>\n      <td>3</td>\n      <td>Movie</td>\n      <td>23:59</td>\n      <td>Gilbert Chan</td>\n      <td>Tedd Chan, Stella Chung, Henley Hii, Lawrence ...</td>\n      <td>Singapore</td>\n      <td>December 20, 2018</td>\n      <td>2011</td>\n      <td>R</td>\n      <td>78 min</td>\n      <td>Horror Movies, International Movies</td>\n      <td>When an army recruit is found dead, his fellow...</td>\n    </tr>\n    <tr>\n      <th>4</th>\n      <td>4</td>\n      <td>Movie</td>\n      <td>9</td>\n      <td>Shane Acker</td>\n      <td>Elijah Wood, John C. Reilly, Jennifer Connelly...</td>\n      <td>United States</td>\n      <td>November 16, 2017</td>\n      <td>2009</td>\n      <td>PG-13</td>\n      <td>80 min</td>\n      <td>Action &amp; Adventure, Independent Movies, Sci-Fi...</td>\n      <td>In a postapocalyptic world, rag-doll robots hi...</td>\n    </tr>\n    <tr>\n      <th>5</th>\n      <td>5</td>\n      <td>Movie</td>\n      <td>21</td>\n      <td>Robert Luketic</td>\n      <td>Jim Sturgess, Kevin Spacey, Kate Bosworth, Aar...</td>\n      <td>United States</td>\n      <td>January 1, 2020</td>\n      <td>2008</td>\n      <td>PG-13</td>\n      <td>123 min</td>\n      <td>Dramas</td>\n      <td>A brilliant group of students become card-coun...</td>\n    </tr>\n  </tbody>\n</table>\n</div>"
     },
     "execution_count": 4,
     "metadata": {},
     "output_type": "execute_result"
    }
   ],
   "source": [
    "dataset_meta = DatasetMeta(SchemaName.NETFLIX, NetflixDatasetName.DATASET1)\n",
    "dataset = Dataset(dataset_meta)\n",
    "dataset_df = dataset.load_data()\n",
    "\n",
    "dataset_df.head()"
   ],
   "metadata": {
    "collapsed": false
   }
  },
  {
   "cell_type": "markdown",
   "source": [
    "### Queries"
   ],
   "metadata": {
    "collapsed": false
   }
  },
  {
   "cell_type": "code",
   "execution_count": 5,
   "metadata": {},
   "outputs": [],
   "source": [
    "df_tv = dataset_df[dataset_df['type'] == 'TV Show']\n",
    "df_movie = dataset_df[dataset_df['type'] == 'Movie']"
   ]
  },
  {
   "cell_type": "code",
   "execution_count": 6,
   "metadata": {},
   "outputs": [
    {
     "name": "stdout",
     "output_type": "stream",
     "text": [
      "30.949017593424937\n",
      "69.05098240657506\n"
     ]
    }
   ],
   "source": [
    "# calculate the global percentage of TV shows and movies\n",
    "global_tv_percent = len(df_tv) / len(dataset_df) * 100\n",
    "global_movie_percent = len(df_movie) / len(dataset_df) * 100\n",
    "print(global_tv_percent)\n",
    "print(global_movie_percent)"
   ]
  },
  {
   "cell_type": "code",
   "execution_count": 7,
   "metadata": {},
   "outputs": [
    {
     "name": "stdout",
     "output_type": "stream",
     "text": [
      "country\n",
      "Argentina        26.470588\n",
      "Australia        48.148148\n",
      "Austria          12.500000\n",
      "Bangladesh             NaN\n",
      "Belarus         100.000000\n",
      "                   ...    \n",
      "Uruguay          11.111111\n",
      "Venezuela              NaN\n",
      "Vietnam                NaN\n",
      "West Germany           NaN\n",
      "Zimbabwe               NaN\n",
      "Length: 81, dtype: float64\n",
      "country\n",
      "Argentina        73.529412\n",
      "Australia        51.851852\n",
      "Austria          87.500000\n",
      "Bangladesh      100.000000\n",
      "Belarus                NaN\n",
      "                   ...    \n",
      "Uruguay          88.888889\n",
      "Venezuela       100.000000\n",
      "Vietnam         100.000000\n",
      "West Germany    100.000000\n",
      "Zimbabwe        100.000000\n",
      "Length: 81, dtype: float64\n"
     ]
    }
   ],
   "source": [
    "# group by country and calculate the percentage of TV shows and movies\n",
    "country_tv_percent = (df_tv.groupby('country').size() / dataset_df.groupby('country').size()) * 100\n",
    "country_movie_percent = (df_movie.groupby('country').size() / dataset_df.groupby('country').size()) * 100\n",
    "print(country_tv_percent)\n",
    "print(country_movie_percent)"
   ]
  },
  {
   "cell_type": "code",
   "execution_count": 8,
   "metadata": {},
   "outputs": [
    {
     "name": "stdout",
     "output_type": "stream",
     "text": [
      "['Australia', 'Austria', 'Bangladesh', 'Belarus', 'Belgium', 'Bulgaria', 'Cambodia', 'Chile', 'China', 'Colombia', 'Croatia', 'Cyprus', 'Czech Republic', 'Egypt', 'Finland', 'Georgia', 'Ghana', 'Greece', 'Guatemala', 'Hong Kong', 'Hungary', 'India', 'Indonesia', 'Iran', 'Jamaica', 'Japan', 'Jordan', 'Kenya', 'Mauritius', 'Namibia', 'Netherlands', 'New Zealand', 'Nigeria', 'Norway', 'Pakistan', 'Paraguay', 'Peru', 'Philippines', 'Portugal', 'Puerto Rico', 'Romania', 'Russia', 'Senegal', 'Serbia', 'Singapore', 'Slovenia', 'Somalia', 'South Africa', 'South Korea', 'Soviet Union', 'Sweden', 'Switzerland', 'Taiwan', 'Ukraine', 'United Arab Emirates', 'Uruguay', 'Venezuela', 'Vietnam', 'West Germany', 'Zimbabwe']\n"
     ]
    }
   ],
   "source": [
    "# compare the country percentages to the global percentages\n",
    "atypical_countries = []\n",
    "for country in country_tv_percent.index:\n",
    "    tv_percent = country_tv_percent[country]\n",
    "    movie_percent = country_movie_percent[country]\n",
    "    if abs(tv_percent - global_tv_percent) > 10 or abs(movie_percent - global_movie_percent) > 10:\n",
    "        atypical_countries.append(country)\n",
    "\n",
    "print(atypical_countries)"
   ]
  },
  {
   "cell_type": "code",
   "execution_count": null,
   "outputs": [],
   "source": [],
   "metadata": {
    "collapsed": false
   }
  }
 ],
 "metadata": {
  "kernelspec": {
   "display_name": "Python 3",
   "language": "python",
   "name": "python3"
  },
  "language_info": {
   "codemirror_mode": {
    "name": "ipython",
    "version": 3
   },
   "file_extension": ".py",
   "mimetype": "text/x-python",
   "name": "python",
   "nbconvert_exporter": "python",
   "pygments_lexer": "ipython3",
   "version": "3.7.6"
  }
 },
 "nbformat": 4,
 "nbformat_minor": 4
}
