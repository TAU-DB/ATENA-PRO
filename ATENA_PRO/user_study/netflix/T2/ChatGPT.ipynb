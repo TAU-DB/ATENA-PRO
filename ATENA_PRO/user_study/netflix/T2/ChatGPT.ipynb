{
 "cells": [
  {
   "cell_type": "markdown",
   "metadata": {},
   "source": [
    "# Successful TV-shows"
   ]
  },
  {
   "cell_type": "code",
   "execution_count": 2,
   "outputs": [],
   "source": [
    "from ATENA_PRO.src.ATENA_A_EDA.benchmark.atena.simulation.dataset import DatasetMeta, SchemaName, NetflixDatasetName, \\\n",
    "    Dataset"
   ],
   "metadata": {
    "collapsed": false
   }
  },
  {
   "cell_type": "code",
   "execution_count": 3,
   "outputs": [
    {
     "data": {
      "text/plain": "   show_id     type  title           director  \\\n1        1  TV Show     3%                NaN   \n2        2    Movie   7:19  Jorge Michel Grau   \n3        3    Movie  23:59       Gilbert Chan   \n4        4    Movie      9        Shane Acker   \n5        5    Movie     21     Robert Luketic   \n\n                                                cast        country  \\\n1  João Miguel, Bianca Comparato, Michel Gomes, R...         Brazil   \n2  Demián Bichir, Héctor Bonilla, Oscar Serrano, ...         Mexico   \n3  Tedd Chan, Stella Chung, Henley Hii, Lawrence ...      Singapore   \n4  Elijah Wood, John C. Reilly, Jennifer Connelly...  United States   \n5  Jim Sturgess, Kevin Spacey, Kate Bosworth, Aar...  United States   \n\n          date_added  release_year rating   duration  \\\n1    August 14, 2020          2020  TV-MA  4 Seasons   \n2  December 23, 2016          2016  TV-MA     93 min   \n3  December 20, 2018          2011      R     78 min   \n4  November 16, 2017          2009  PG-13     80 min   \n5    January 1, 2020          2008  PG-13    123 min   \n\n                                           listed_in  \\\n1  International TV Shows, TV Dramas, TV Sci-Fi &...   \n2                       Dramas, International Movies   \n3                Horror Movies, International Movies   \n4  Action & Adventure, Independent Movies, Sci-Fi...   \n5                                             Dramas   \n\n                                         description  \n1  In a future where the elite inhabit an island ...  \n2  After a devastating earthquake hits Mexico Cit...  \n3  When an army recruit is found dead, his fellow...  \n4  In a postapocalyptic world, rag-doll robots hi...  \n5  A brilliant group of students become card-coun...  ",
      "text/html": "<div>\n<style scoped>\n    .dataframe tbody tr th:only-of-type {\n        vertical-align: middle;\n    }\n\n    .dataframe tbody tr th {\n        vertical-align: top;\n    }\n\n    .dataframe thead th {\n        text-align: right;\n    }\n</style>\n<table border=\"1\" class=\"dataframe\">\n  <thead>\n    <tr style=\"text-align: right;\">\n      <th></th>\n      <th>show_id</th>\n      <th>type</th>\n      <th>title</th>\n      <th>director</th>\n      <th>cast</th>\n      <th>country</th>\n      <th>date_added</th>\n      <th>release_year</th>\n      <th>rating</th>\n      <th>duration</th>\n      <th>listed_in</th>\n      <th>description</th>\n    </tr>\n  </thead>\n  <tbody>\n    <tr>\n      <th>1</th>\n      <td>1</td>\n      <td>TV Show</td>\n      <td>3%</td>\n      <td>NaN</td>\n      <td>João Miguel, Bianca Comparato, Michel Gomes, R...</td>\n      <td>Brazil</td>\n      <td>August 14, 2020</td>\n      <td>2020</td>\n      <td>TV-MA</td>\n      <td>4 Seasons</td>\n      <td>International TV Shows, TV Dramas, TV Sci-Fi &amp;...</td>\n      <td>In a future where the elite inhabit an island ...</td>\n    </tr>\n    <tr>\n      <th>2</th>\n      <td>2</td>\n      <td>Movie</td>\n      <td>7:19</td>\n      <td>Jorge Michel Grau</td>\n      <td>Demián Bichir, Héctor Bonilla, Oscar Serrano, ...</td>\n      <td>Mexico</td>\n      <td>December 23, 2016</td>\n      <td>2016</td>\n      <td>TV-MA</td>\n      <td>93 min</td>\n      <td>Dramas, International Movies</td>\n      <td>After a devastating earthquake hits Mexico Cit...</td>\n    </tr>\n    <tr>\n      <th>3</th>\n      <td>3</td>\n      <td>Movie</td>\n      <td>23:59</td>\n      <td>Gilbert Chan</td>\n      <td>Tedd Chan, Stella Chung, Henley Hii, Lawrence ...</td>\n      <td>Singapore</td>\n      <td>December 20, 2018</td>\n      <td>2011</td>\n      <td>R</td>\n      <td>78 min</td>\n      <td>Horror Movies, International Movies</td>\n      <td>When an army recruit is found dead, his fellow...</td>\n    </tr>\n    <tr>\n      <th>4</th>\n      <td>4</td>\n      <td>Movie</td>\n      <td>9</td>\n      <td>Shane Acker</td>\n      <td>Elijah Wood, John C. Reilly, Jennifer Connelly...</td>\n      <td>United States</td>\n      <td>November 16, 2017</td>\n      <td>2009</td>\n      <td>PG-13</td>\n      <td>80 min</td>\n      <td>Action &amp; Adventure, Independent Movies, Sci-Fi...</td>\n      <td>In a postapocalyptic world, rag-doll robots hi...</td>\n    </tr>\n    <tr>\n      <th>5</th>\n      <td>5</td>\n      <td>Movie</td>\n      <td>21</td>\n      <td>Robert Luketic</td>\n      <td>Jim Sturgess, Kevin Spacey, Kate Bosworth, Aar...</td>\n      <td>United States</td>\n      <td>January 1, 2020</td>\n      <td>2008</td>\n      <td>PG-13</td>\n      <td>123 min</td>\n      <td>Dramas</td>\n      <td>A brilliant group of students become card-coun...</td>\n    </tr>\n  </tbody>\n</table>\n</div>"
     },
     "execution_count": 3,
     "metadata": {},
     "output_type": "execute_result"
    }
   ],
   "source": [
    "dataset_meta = DatasetMeta(SchemaName.NETFLIX, NetflixDatasetName.DATASET1)\n",
    "dataset = Dataset(dataset_meta)\n",
    "dataset_df = dataset.load_data()\n",
    "\n",
    "dataset_df.head()"
   ],
   "metadata": {
    "collapsed": false
   }
  },
  {
   "cell_type": "markdown",
   "source": [
    "### Queries"
   ],
   "metadata": {
    "collapsed": false
   }
  },
  {
   "cell_type": "code",
   "execution_count": 10,
   "metadata": {},
   "outputs": [
    {
     "name": "stdout",
     "output_type": "stream",
     "text": [
      "      show_id     type                  title              director  \\\n",
      "1           1  TV Show                     3%                   NaN   \n",
      "6           6  TV Show                     46           Serdar Akar   \n",
      "12         12  TV Show                   1983                   NaN   \n",
      "13         13  TV Show                   1994  Diego Enrique Osorno   \n",
      "17         17  TV Show                 Feb-09                   NaN   \n",
      "...       ...      ...                    ...                   ...   \n",
      "7768     7768  TV Show     Zindagi Gulzar Hai                   NaN   \n",
      "7776     7776  TV Show             Zoids Wild                   NaN   \n",
      "7778     7778  TV Show            Zombie Dumb                   NaN   \n",
      "7780     7780  TV Show              Zona Rosa                   NaN   \n",
      "7786     7786  TV Show  Zumbo's Just Desserts                   NaN   \n",
      "\n",
      "                                                   cast    country  \\\n",
      "1     João Miguel, Bianca Comparato, Michel Gomes, R...     Brazil   \n",
      "6     Erdal Beşikçioğlu, Yasemin Allen, Melis Birkan...     Turkey   \n",
      "12    Robert Więckiewicz, Maciej Musiał, Michalina O...     Poland   \n",
      "13                                                  NaN     Mexico   \n",
      "17    Shahd El Yaseen, Shaila Sabt, Hala, Hanadi Al-...        NaN   \n",
      "...                                                 ...        ...   \n",
      "7768  Sanam Saeed, Fawad Khan, Ayesha Omer, Mehreen ...   Pakistan   \n",
      "7776  Kensho Ono, Takahiro Sakurai, Mikako Komatsu, ...      Japan   \n",
      "7778                                                NaN        NaN   \n",
      "7780  Manu NNa, Ana Julia Yeyé, Ray Contreras, Pablo...     Mexico   \n",
      "7786                         Adriano Zumbo, Rachel Khoo  Australia   \n",
      "\n",
      "             date_added  release_year rating   duration  \\\n",
      "1       August 14, 2020          2020  TV-MA  4 Seasons   \n",
      "6          July 1, 2017          2016  TV-MA   1 Season   \n",
      "12    November 30, 2018          2018  TV-MA   1 Season   \n",
      "13         May 17, 2019          2019  TV-MA   1 Season   \n",
      "17       March 20, 2019          2018  TV-14   1 Season   \n",
      "...                 ...           ...    ...        ...   \n",
      "7768  December 15, 2016          2012  TV-PG   1 Season   \n",
      "7776    August 14, 2020          2018  TV-Y7   1 Season   \n",
      "7778       July 1, 2019          2018  TV-Y7  2 Seasons   \n",
      "7780  November 26, 2019          2019  TV-MA   1 Season   \n",
      "7786   October 31, 2020          2019  TV-PG   1 Season   \n",
      "\n",
      "                                              listed_in  \\\n",
      "1     International TV Shows, TV Dramas, TV Sci-Fi &...   \n",
      "6       International TV Shows, TV Dramas, TV Mysteries   \n",
      "12    Crime TV Shows, International TV Shows, TV Dramas   \n",
      "13    Crime TV Shows, Docuseries, International TV S...   \n",
      "17                    International TV Shows, TV Dramas   \n",
      "...                                                 ...   \n",
      "7768  International TV Shows, Romantic TV Shows, TV ...   \n",
      "7776                             Anime Series, Kids' TV   \n",
      "7778             Kids' TV, Korean TV Shows, TV Comedies   \n",
      "7780  International TV Shows, Spanish-Language TV Sh...   \n",
      "7786                 International TV Shows, Reality TV   \n",
      "\n",
      "                                            description  \n",
      "1     In a future where the elite inhabit an island ...  \n",
      "6     A genetics professor experiments with a treatm...  \n",
      "12    In this dark alt-history thriller, a naïve law...  \n",
      "13    Archival video and new interviews examine Mexi...  \n",
      "17    As a psychology professor faces Alzheimer's, h...  \n",
      "...                                                 ...  \n",
      "7768  Strong-willed, middle-class Kashaf and carefre...  \n",
      "7776  A quest for freedom and legendary treasure beg...  \n",
      "7778  While living alone in a spooky town, a young g...  \n",
      "7780  An assortment of talent takes the stage for a ...  \n",
      "7786  Dessert wizard Adriano Zumbo looks for the nex...  \n",
      "\n",
      "[2410 rows x 12 columns]\n"
     ]
    }
   ],
   "source": [
    "tv_shows = dataset_df[dataset_df['type'] == 'TV Show']\n",
    "print(tv_shows)"
   ]
  },
  {
   "cell_type": "code",
   "execution_count": 11,
   "outputs": [
    {
     "name": "stdout",
     "output_type": "stream",
     "text": [
      "      show_id     type                                title director  \\\n",
      "1           1  TV Show                                   3%      NaN   \n",
      "25         25  TV Show  ​SAINT SEIYA: Knights of the Zodiac      NaN   \n",
      "64         64  TV Show                       13 Reasons Why      NaN   \n",
      "65         65  TV Show   13 Reasons Why: Beyond the Reasons      NaN   \n",
      "109       109  TV Show             3Below: Tales of Arcadia      NaN   \n",
      "...       ...      ...                                  ...      ...   \n",
      "7754     7754  TV Show                           Yunus Emre      NaN   \n",
      "7756     7756  TV Show                             Z Nation      NaN   \n",
      "7757     7757  TV Show                                   Z4      NaN   \n",
      "7760     7760  TV Show                            Zak Storm      NaN   \n",
      "7778     7778  TV Show                          Zombie Dumb      NaN   \n",
      "\n",
      "                                                   cast        country  \\\n",
      "1     João Miguel, Bianca Comparato, Michel Gomes, R...         Brazil   \n",
      "25    Bryson Baugus, Emily Neves, Blake Shepard, Pat...          Japan   \n",
      "64    Dylan Minnette, Katherine Langford, Kate Walsh...  United States   \n",
      "65    Dylan Minnette, Katherine Langford, Kate Walsh...  United States   \n",
      "109   Tatiana Maslany, Diego Luna, Nick Offerman, Ni...  United States   \n",
      "...                                                 ...            ...   \n",
      "7754  Gökhan Atalay, Payidar Tüfekçioglu, Baran Akbu...         Turkey   \n",
      "7756  Nat Zang, Russell Hodgkinson, Michael Welch, A...  United States   \n",
      "7757  Apollo Costa, Gabriel Santana, Matheus Lustosa...         Brazil   \n",
      "7760  Michael Johnston, Jessica Gee-George, Christin...  United States   \n",
      "7778                                                NaN            NaN   \n",
      "\n",
      "              date_added  release_year rating   duration  \\\n",
      "1        August 14, 2020          2020  TV-MA  4 Seasons   \n",
      "25      January 23, 2020          2020  TV-14  2 Seasons   \n",
      "64          June 5, 2020          2020  TV-MA  4 Seasons   \n",
      "65       August 23, 2019          2019  TV-MA  3 Seasons   \n",
      "109        July 12, 2019          2019  TV-Y7  2 Seasons   \n",
      "...                  ...           ...    ...        ...   \n",
      "7754    January 17, 2017          2016  TV-PG  2 Seasons   \n",
      "7756    January 27, 2019          2018  TV-MA  5 Seasons   \n",
      "7757   February 22, 2019          2018  TV-PG  2 Seasons   \n",
      "7760  September 13, 2018          2016  TV-Y7  3 Seasons   \n",
      "7778        July 1, 2019          2018  TV-Y7  2 Seasons   \n",
      "\n",
      "                                              listed_in  \\\n",
      "1     International TV Shows, TV Dramas, TV Sci-Fi &...   \n",
      "25                 Anime Series, International TV Shows   \n",
      "64              Crime TV Shows, TV Dramas, TV Mysteries   \n",
      "65                           Crime TV Shows, Docuseries   \n",
      "109   Kids' TV, TV Action & Adventure, TV Sci-Fi & F...   \n",
      "...                                                 ...   \n",
      "7754                  International TV Shows, TV Dramas   \n",
      "7756      TV Action & Adventure, TV Comedies, TV Horror   \n",
      "7757                                           Kids' TV   \n",
      "7760                                           Kids' TV   \n",
      "7778             Kids' TV, Korean TV Shows, TV Comedies   \n",
      "\n",
      "                                            description  \n",
      "1     In a future where the elite inhabit an island ...  \n",
      "25    Seiya and the Knights of the Zodiac rise again...  \n",
      "64    After a teenage girl's perplexing suicide, a c...  \n",
      "65    Cast members, writers, producers and mental he...  \n",
      "109   After crash-landing on Earth, two royal teen a...  \n",
      "...                                                 ...  \n",
      "7754  During the Mongol invasions, Yunus Emre leaves...  \n",
      "7756  A team embarks on a perilous cross-country mis...  \n",
      "7757  Fading music biz veteran Zé realizes he has ju...  \n",
      "7760  Teen surfer Zak Storm is mysteriously transpor...  \n",
      "7778  While living alone in a spooky town, a young g...  \n",
      "\n",
      "[802 rows x 12 columns]\n"
     ]
    }
   ],
   "source": [
    "tv_shows_multiple_seasons = tv_shows[tv_shows['duration'].str.contains('\\d+ Seasons')]\n",
    "print(tv_shows_multiple_seasons)"
   ],
   "metadata": {
    "collapsed": false
   }
  },
  {
   "cell_type": "code",
   "execution_count": 6,
   "outputs": [
    {
     "name": "stdout",
     "output_type": "stream",
     "text": [
      "Average release year of successful TV shows: 2016\n"
     ]
    }
   ],
   "source": [
    "# Calculate the average release year of successful TV shows\n",
    "avg_release_year = tv_shows_multiple_seasons[tv_shows_multiple_seasons['release_year'].notnull()]['release_year'].mean()\n",
    "print(f\"Average release year of successful TV shows: {avg_release_year:.0f}\")"
   ],
   "metadata": {
    "collapsed": false
   }
  },
  {
   "cell_type": "code",
   "execution_count": 7,
   "outputs": [
    {
     "name": "stdout",
     "output_type": "stream",
     "text": [
      "Average duration of successful TV shows: 3 seasons\n"
     ]
    }
   ],
   "source": [
    "# Calculate the average duration of successful TV shows\n",
    "avg_duration = tv_shows_multiple_seasons['duration'].str.extract('(\\d+)').astype(int).mean()\n",
    "print(f\"Average duration of successful TV shows: {avg_duration[0]:.0f} seasons\")"
   ],
   "metadata": {
    "collapsed": false
   }
  },
  {
   "cell_type": "code",
   "execution_count": 8,
   "outputs": [
    {
     "name": "stdout",
     "output_type": "stream",
     "text": [
      "Most common rating of successful TV shows: TV-MA\n"
     ]
    }
   ],
   "source": [
    "# Calculate the most common rating of successful TV shows\n",
    "most_common_rating = tv_shows_multiple_seasons['rating'].mode()[0]\n",
    "print(f\"Most common rating of successful TV shows: {most_common_rating}\")"
   ],
   "metadata": {
    "collapsed": false
   }
  },
  {
   "cell_type": "code",
   "execution_count": 9,
   "outputs": [
    {
     "name": "stdout",
     "output_type": "stream",
     "text": [
      "Most common country of successful TV shows: United States\n"
     ]
    }
   ],
   "source": [
    "# Calculate the most common country of successful TV shows\n",
    "most_common_country = tv_shows_multiple_seasons['country'].mode()[0]\n",
    "print(f\"Most common country of successful TV shows: {most_common_country}\")"
   ],
   "metadata": {
    "collapsed": false
   }
  }
 ],
 "metadata": {
  "kernelspec": {
   "display_name": "Python 3",
   "language": "python",
   "name": "python3"
  },
  "language_info": {
   "codemirror_mode": {
    "name": "ipython",
    "version": 3
   },
   "file_extension": ".py",
   "mimetype": "text/x-python",
   "name": "python",
   "nbconvert_exporter": "python",
   "pygments_lexer": "ipython3",
   "version": "3.7.6"
  }
 },
 "nbformat": 4,
 "nbformat_minor": 4
}
