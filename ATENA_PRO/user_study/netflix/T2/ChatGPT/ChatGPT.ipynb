{
 "cells": [
  {
   "cell_type": "markdown",
   "metadata": {},
   "source": [
    "# Successful TV-shows"
   ]
  },
  {
   "cell_type": "code",
   "execution_count": 3,
   "outputs": [],
   "source": [
    "from ATENA_PRO.src.ATENA_A_EDA.benchmark.atena.simulation.dataset import DatasetMeta, SchemaName, NetflixDatasetName, \\\n",
    "    Dataset"
   ],
   "metadata": {
    "collapsed": false
   }
  },
  {
   "cell_type": "code",
   "execution_count": 31,
   "outputs": [
    {
     "data": {
      "text/plain": "   show_id     type  title           director  \\\n1        1  TV Show     3%                NaN   \n2        2    Movie   7:19  Jorge Michel Grau   \n3        3    Movie  23:59       Gilbert Chan   \n4        4    Movie      9        Shane Acker   \n5        5    Movie     21     Robert Luketic   \n\n                                                cast        country  \\\n1  João Miguel, Bianca Comparato, Michel Gomes, R...         Brazil   \n2  Demián Bichir, Héctor Bonilla, Oscar Serrano, ...         Mexico   \n3  Tedd Chan, Stella Chung, Henley Hii, Lawrence ...      Singapore   \n4  Elijah Wood, John C. Reilly, Jennifer Connelly...  United States   \n5  Jim Sturgess, Kevin Spacey, Kate Bosworth, Aar...  United States   \n\n          date_added  release_year rating   duration  \\\n1    August 14, 2020          2020  TV-MA  4 Seasons   \n2  December 23, 2016          2016  TV-MA     93 min   \n3  December 20, 2018          2011      R     78 min   \n4  November 16, 2017          2009  PG-13     80 min   \n5    January 1, 2020          2008  PG-13    123 min   \n\n                                           listed_in  \\\n1  International TV Shows, TV Dramas, TV Sci-Fi &...   \n2                       Dramas, International Movies   \n3                Horror Movies, International Movies   \n4  Action & Adventure, Independent Movies, Sci-Fi...   \n5                                             Dramas   \n\n                                         description  \n1  In a future where the elite inhabit an island ...  \n2  After a devastating earthquake hits Mexico Cit...  \n3  When an army recruit is found dead, his fellow...  \n4  In a postapocalyptic world, rag-doll robots hi...  \n5  A brilliant group of students become card-coun...  ",
      "text/html": "<div>\n<style scoped>\n    .dataframe tbody tr th:only-of-type {\n        vertical-align: middle;\n    }\n\n    .dataframe tbody tr th {\n        vertical-align: top;\n    }\n\n    .dataframe thead th {\n        text-align: right;\n    }\n</style>\n<table border=\"1\" class=\"dataframe\">\n  <thead>\n    <tr style=\"text-align: right;\">\n      <th></th>\n      <th>show_id</th>\n      <th>type</th>\n      <th>title</th>\n      <th>director</th>\n      <th>cast</th>\n      <th>country</th>\n      <th>date_added</th>\n      <th>release_year</th>\n      <th>rating</th>\n      <th>duration</th>\n      <th>listed_in</th>\n      <th>description</th>\n    </tr>\n  </thead>\n  <tbody>\n    <tr>\n      <th>1</th>\n      <td>1</td>\n      <td>TV Show</td>\n      <td>3%</td>\n      <td>NaN</td>\n      <td>João Miguel, Bianca Comparato, Michel Gomes, R...</td>\n      <td>Brazil</td>\n      <td>August 14, 2020</td>\n      <td>2020</td>\n      <td>TV-MA</td>\n      <td>4 Seasons</td>\n      <td>International TV Shows, TV Dramas, TV Sci-Fi &amp;...</td>\n      <td>In a future where the elite inhabit an island ...</td>\n    </tr>\n    <tr>\n      <th>2</th>\n      <td>2</td>\n      <td>Movie</td>\n      <td>7:19</td>\n      <td>Jorge Michel Grau</td>\n      <td>Demián Bichir, Héctor Bonilla, Oscar Serrano, ...</td>\n      <td>Mexico</td>\n      <td>December 23, 2016</td>\n      <td>2016</td>\n      <td>TV-MA</td>\n      <td>93 min</td>\n      <td>Dramas, International Movies</td>\n      <td>After a devastating earthquake hits Mexico Cit...</td>\n    </tr>\n    <tr>\n      <th>3</th>\n      <td>3</td>\n      <td>Movie</td>\n      <td>23:59</td>\n      <td>Gilbert Chan</td>\n      <td>Tedd Chan, Stella Chung, Henley Hii, Lawrence ...</td>\n      <td>Singapore</td>\n      <td>December 20, 2018</td>\n      <td>2011</td>\n      <td>R</td>\n      <td>78 min</td>\n      <td>Horror Movies, International Movies</td>\n      <td>When an army recruit is found dead, his fellow...</td>\n    </tr>\n    <tr>\n      <th>4</th>\n      <td>4</td>\n      <td>Movie</td>\n      <td>9</td>\n      <td>Shane Acker</td>\n      <td>Elijah Wood, John C. Reilly, Jennifer Connelly...</td>\n      <td>United States</td>\n      <td>November 16, 2017</td>\n      <td>2009</td>\n      <td>PG-13</td>\n      <td>80 min</td>\n      <td>Action &amp; Adventure, Independent Movies, Sci-Fi...</td>\n      <td>In a postapocalyptic world, rag-doll robots hi...</td>\n    </tr>\n    <tr>\n      <th>5</th>\n      <td>5</td>\n      <td>Movie</td>\n      <td>21</td>\n      <td>Robert Luketic</td>\n      <td>Jim Sturgess, Kevin Spacey, Kate Bosworth, Aar...</td>\n      <td>United States</td>\n      <td>January 1, 2020</td>\n      <td>2008</td>\n      <td>PG-13</td>\n      <td>123 min</td>\n      <td>Dramas</td>\n      <td>A brilliant group of students become card-coun...</td>\n    </tr>\n  </tbody>\n</table>\n</div>"
     },
     "execution_count": 31,
     "metadata": {},
     "output_type": "execute_result"
    }
   ],
   "source": [
    "dataset_meta = DatasetMeta(SchemaName.NETFLIX, NetflixDatasetName.DATASET1)\n",
    "dataset = Dataset(dataset_meta)\n",
    "dataset_df = dataset.load_data()\n",
    "\n",
    "dataset_df.head()"
   ],
   "metadata": {
    "collapsed": false
   }
  },
  {
   "cell_type": "markdown",
   "metadata": {},
   "source": [
    "### Session Tree:"
   ]
  },
  {
   "cell_type": "code",
   "execution_count": 31,
   "metadata": {},
   "outputs": [],
   "source": []
  },
  {
   "cell_type": "markdown",
   "source": [
    "### Queries"
   ],
   "metadata": {
    "collapsed": false
   }
  },
  {
   "cell_type": "code",
   "execution_count": 32,
   "metadata": {},
   "outputs": [],
   "source": [
    "tv_shows = dataset_df[dataset_df['type'] == 'TV Show']"
   ]
  },
  {
   "cell_type": "code",
   "execution_count": 33,
   "outputs": [],
   "source": [
    "tv_shows_multiple_seasons = tv_shows[tv_shows['duration'].str.contains('\\d+ Seasons')]"
   ],
   "metadata": {
    "collapsed": false
   }
  },
  {
   "cell_type": "code",
   "execution_count": 34,
   "outputs": [
    {
     "name": "stdout",
     "output_type": "stream",
     "text": [
      "Average release year of successful TV shows: 2016\n"
     ]
    }
   ],
   "source": [
    "# Calculate the average release year of successful TV shows\n",
    "avg_release_year = tv_shows_multiple_seasons[tv_shows_multiple_seasons['release_year'].notnull()]['release_year'].mean()\n",
    "print(f\"Average release year of successful TV shows: {avg_release_year:.0f}\")"
   ],
   "metadata": {
    "collapsed": false
   }
  },
  {
   "cell_type": "code",
   "execution_count": 35,
   "outputs": [
    {
     "name": "stdout",
     "output_type": "stream",
     "text": [
      "Average duration of successful TV shows: 3 seasons\n"
     ]
    }
   ],
   "source": [
    "# Calculate the average duration of successful TV shows\n",
    "avg_duration = tv_shows_multiple_seasons['duration'].str.extract('(\\d+)').astype(int).mean()\n",
    "print(f\"Average duration of successful TV shows: {avg_duration[0]:.0f} seasons\")"
   ],
   "metadata": {
    "collapsed": false
   }
  },
  {
   "cell_type": "code",
   "execution_count": 36,
   "outputs": [
    {
     "name": "stdout",
     "output_type": "stream",
     "text": [
      "Most common rating of successful TV shows: TV-MA\n"
     ]
    }
   ],
   "source": [
    "# Calculate the most common rating of successful TV shows\n",
    "most_common_rating = tv_shows_multiple_seasons['rating'].mode()[0]\n",
    "print(f\"Most common rating of successful TV shows: {most_common_rating}\")"
   ],
   "metadata": {
    "collapsed": false
   }
  },
  {
   "cell_type": "code",
   "execution_count": null,
   "outputs": [],
   "source": [
    "# Calculate the most common country of successful TV shows\n",
    "most_common_country = tv_shows_multiple_seasons['country'].mode()[0]\n",
    "print(f\"Most common country of successful TV shows: {most_common_country}\")"
   ],
   "metadata": {
    "collapsed": false
   }
  }
 ],
 "metadata": {
  "kernelspec": {
   "display_name": "Python 3",
   "language": "python",
   "name": "python3"
  },
  "language_info": {
   "codemirror_mode": {
    "name": "ipython",
    "version": 3
   },
   "file_extension": ".py",
   "mimetype": "text/x-python",
   "name": "python",
   "nbconvert_exporter": "python",
   "pygments_lexer": "ipython3",
   "version": "3.7.6"
  }
 },
 "nbformat": 4,
 "nbformat_minor": 4
}
