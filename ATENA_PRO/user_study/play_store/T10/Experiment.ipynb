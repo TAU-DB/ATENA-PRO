{
 "cells": [
  {
   "cell_type": "markdown",
   "metadata": {},
   "source": [
    "# Compare highly-rated with low-rated apps"
   ]
  },
  {
   "cell_type": "code",
   "execution_count": 11,
   "outputs": [],
   "source": [
    "from ATENA_PRO.src.ATENA_A_EDA.benchmark.atena.simulation.dataset import DatasetMeta, SchemaName, \\\n",
    "    Dataset, PlayStoreDatasetName"
   ],
   "metadata": {
    "collapsed": false
   }
  },
  {
   "cell_type": "code",
   "execution_count": 12,
   "outputs": [
    {
     "data": {
      "text/plain": "   app_id                                               name        category  \\\n1       1     Photo Editor & Candy Camera & Grid & ScrapBook  ART_AND_DESIGN   \n2       2                                Coloring book moana  ART_AND_DESIGN   \n3       3  U Launcher Lite – FREE Live Cool Themes, Hide ...  ART_AND_DESIGN   \n4       4              Pixel Draw - Number Art Coloring Book  ART_AND_DESIGN   \n5       5                         Paper flowers instructions  ART_AND_DESIGN   \n\n   rating  reviews  app_size_kb  installs  type  price content_rating  \\\n1     4.1      159        19000     10000  Free    0.0       Everyone   \n2     3.9      967        14000   1000000  Free    0.0       Everyone   \n3     4.7    87510         8700  10000000  Free    0.0       Everyone   \n4     4.3      967         2800   1000000  Free    0.0       Everyone   \n5     4.4      167         5600     10000  Free    0.0       Everyone   \n\n   last_updated  min_android_ver  \n1          2018                4  \n2          2018                4  \n3          2018                4  \n4          2018                4  \n5          2017                2  ",
      "text/html": "<div>\n<style scoped>\n    .dataframe tbody tr th:only-of-type {\n        vertical-align: middle;\n    }\n\n    .dataframe tbody tr th {\n        vertical-align: top;\n    }\n\n    .dataframe thead th {\n        text-align: right;\n    }\n</style>\n<table border=\"1\" class=\"dataframe\">\n  <thead>\n    <tr style=\"text-align: right;\">\n      <th></th>\n      <th>app_id</th>\n      <th>name</th>\n      <th>category</th>\n      <th>rating</th>\n      <th>reviews</th>\n      <th>app_size_kb</th>\n      <th>installs</th>\n      <th>type</th>\n      <th>price</th>\n      <th>content_rating</th>\n      <th>last_updated</th>\n      <th>min_android_ver</th>\n    </tr>\n  </thead>\n  <tbody>\n    <tr>\n      <th>1</th>\n      <td>1</td>\n      <td>Photo Editor &amp; Candy Camera &amp; Grid &amp; ScrapBook</td>\n      <td>ART_AND_DESIGN</td>\n      <td>4.1</td>\n      <td>159</td>\n      <td>19000</td>\n      <td>10000</td>\n      <td>Free</td>\n      <td>0.0</td>\n      <td>Everyone</td>\n      <td>2018</td>\n      <td>4</td>\n    </tr>\n    <tr>\n      <th>2</th>\n      <td>2</td>\n      <td>Coloring book moana</td>\n      <td>ART_AND_DESIGN</td>\n      <td>3.9</td>\n      <td>967</td>\n      <td>14000</td>\n      <td>1000000</td>\n      <td>Free</td>\n      <td>0.0</td>\n      <td>Everyone</td>\n      <td>2018</td>\n      <td>4</td>\n    </tr>\n    <tr>\n      <th>3</th>\n      <td>3</td>\n      <td>U Launcher Lite – FREE Live Cool Themes, Hide ...</td>\n      <td>ART_AND_DESIGN</td>\n      <td>4.7</td>\n      <td>87510</td>\n      <td>8700</td>\n      <td>10000000</td>\n      <td>Free</td>\n      <td>0.0</td>\n      <td>Everyone</td>\n      <td>2018</td>\n      <td>4</td>\n    </tr>\n    <tr>\n      <th>4</th>\n      <td>4</td>\n      <td>Pixel Draw - Number Art Coloring Book</td>\n      <td>ART_AND_DESIGN</td>\n      <td>4.3</td>\n      <td>967</td>\n      <td>2800</td>\n      <td>1000000</td>\n      <td>Free</td>\n      <td>0.0</td>\n      <td>Everyone</td>\n      <td>2018</td>\n      <td>4</td>\n    </tr>\n    <tr>\n      <th>5</th>\n      <td>5</td>\n      <td>Paper flowers instructions</td>\n      <td>ART_AND_DESIGN</td>\n      <td>4.4</td>\n      <td>167</td>\n      <td>5600</td>\n      <td>10000</td>\n      <td>Free</td>\n      <td>0.0</td>\n      <td>Everyone</td>\n      <td>2017</td>\n      <td>2</td>\n    </tr>\n  </tbody>\n</table>\n</div>"
     },
     "execution_count": 12,
     "metadata": {},
     "output_type": "execute_result"
    }
   ],
   "source": [
    "dataset_meta = DatasetMeta(SchemaName.PLAY_STORE, PlayStoreDatasetName.DATASET1)\n",
    "dataset = Dataset(dataset_meta)\n",
    "dataset_df = dataset.load_data()\n",
    "\n",
    "dataset_df.head()"
   ],
   "metadata": {
    "collapsed": false
   }
  },
  {
   "cell_type": "markdown",
   "source": [
    "### Queries"
   ],
   "metadata": {
    "collapsed": false
   }
  },
  {
   "cell_type": "code",
   "execution_count": 13,
   "metadata": {},
   "outputs": [],
   "source": [
    "# Filter high-rated and low-rated apps\n",
    "high_rated = dataset_df[dataset_df['rating'] >= 4.7]\n",
    "low_rated = dataset_df[dataset_df['rating'] <= 2.5]"
   ]
  },
  {
   "cell_type": "code",
   "execution_count": 14,
   "outputs": [
    {
     "name": "stdout",
     "output_type": "stream",
     "text": [
      "Mean number of reviews for high-rated apps: 57375.031729785056\n",
      "Mean number of reviews for low-rated apps: 375.6575342465753\n"
     ]
    }
   ],
   "source": [
    "# Calculate the mean number of reviews for high-rated and low-rated apps\n",
    "mean_high_reviews = high_rated['reviews'].mean()\n",
    "mean_low_reviews = low_rated['reviews'].mean()\n",
    "\n",
    "# Print the mean number of reviews for high-rated and low-rated apps\n",
    "print(\"Mean number of reviews for high-rated apps:\", mean_high_reviews)\n",
    "print(\"Mean number of reviews for low-rated apps:\", mean_low_reviews)"
   ],
   "metadata": {
    "collapsed": false
   }
  },
  {
   "cell_type": "code",
   "execution_count": 16,
   "outputs": [
    {
     "name": "stdout",
     "output_type": "stream",
     "text": [
      "There is a significant difference in the number of reviews between high-rated and low-rated apps.\n"
     ]
    }
   ],
   "source": [
    "# Perform a t-test to determine if there is a significant difference in the number of reviews\n",
    "from scipy.stats import ttest_ind\n",
    "\n",
    "t_stat, p_value = ttest_ind(high_rated['reviews'], low_rated['reviews'], equal_var=False)\n",
    "\n",
    "if p_value < 0.05:\n",
    "    print(\"There is a significant difference in the number of reviews between high-rated and low-rated apps.\")\n",
    "else:\n",
    "    print(\"There is no significant difference in the number of reviews between high-rated and low-rated apps.\")"
   ],
   "metadata": {
    "collapsed": false
   }
  }
 ],
 "metadata": {
  "kernelspec": {
   "display_name": "Python 3",
   "language": "python",
   "name": "python3"
  },
  "language_info": {
   "codemirror_mode": {
    "name": "ipython",
    "version": 3
   },
   "file_extension": ".py",
   "mimetype": "text/x-python",
   "name": "python",
   "nbconvert_exporter": "python",
   "pygments_lexer": "ipython3",
   "version": "3.7.6"
  }
 },
 "nbformat": 4,
 "nbformat_minor": 4
}
