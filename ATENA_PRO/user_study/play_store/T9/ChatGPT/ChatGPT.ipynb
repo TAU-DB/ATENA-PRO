{
 "cells": [
  {
   "cell_type": "markdown",
   "metadata": {},
   "source": [
    "# Properties of apps with ≥ 1M installs"
   ]
  },
  {
   "cell_type": "code",
   "execution_count": 1,
   "outputs": [],
   "source": [
    "from ATENA_PRO.src.ATENA_A_EDA.benchmark.atena.simulation.dataset import DatasetMeta, SchemaName, \\\n",
    "    Dataset, PlayStoreDatasetName"
   ],
   "metadata": {
    "collapsed": false
   }
  },
  {
   "cell_type": "code",
   "execution_count": 2,
   "outputs": [
    {
     "data": {
      "text/plain": "   app_id                                               name        category  \\\n1       1     Photo Editor & Candy Camera & Grid & ScrapBook  ART_AND_DESIGN   \n2       2                                Coloring book moana  ART_AND_DESIGN   \n3       3  U Launcher Lite – FREE Live Cool Themes, Hide ...  ART_AND_DESIGN   \n4       4              Pixel Draw - Number Art Coloring Book  ART_AND_DESIGN   \n5       5                         Paper flowers instructions  ART_AND_DESIGN   \n\n   rating  reviews  app_size_kb  installs  type  price content_rating  \\\n1     4.1      159        19000     10000  Free    0.0       Everyone   \n2     3.9      967        14000   1000000  Free    0.0       Everyone   \n3     4.7    87510         8700  10000000  Free    0.0       Everyone   \n4     4.3      967         2800   1000000  Free    0.0       Everyone   \n5     4.4      167         5600     10000  Free    0.0       Everyone   \n\n   last_updated  min_android_ver  \n1          2018                4  \n2          2018                4  \n3          2018                4  \n4          2018                4  \n5          2017                2  ",
      "text/html": "<div>\n<style scoped>\n    .dataframe tbody tr th:only-of-type {\n        vertical-align: middle;\n    }\n\n    .dataframe tbody tr th {\n        vertical-align: top;\n    }\n\n    .dataframe thead th {\n        text-align: right;\n    }\n</style>\n<table border=\"1\" class=\"dataframe\">\n  <thead>\n    <tr style=\"text-align: right;\">\n      <th></th>\n      <th>app_id</th>\n      <th>name</th>\n      <th>category</th>\n      <th>rating</th>\n      <th>reviews</th>\n      <th>app_size_kb</th>\n      <th>installs</th>\n      <th>type</th>\n      <th>price</th>\n      <th>content_rating</th>\n      <th>last_updated</th>\n      <th>min_android_ver</th>\n    </tr>\n  </thead>\n  <tbody>\n    <tr>\n      <th>1</th>\n      <td>1</td>\n      <td>Photo Editor &amp; Candy Camera &amp; Grid &amp; ScrapBook</td>\n      <td>ART_AND_DESIGN</td>\n      <td>4.1</td>\n      <td>159</td>\n      <td>19000</td>\n      <td>10000</td>\n      <td>Free</td>\n      <td>0.0</td>\n      <td>Everyone</td>\n      <td>2018</td>\n      <td>4</td>\n    </tr>\n    <tr>\n      <th>2</th>\n      <td>2</td>\n      <td>Coloring book moana</td>\n      <td>ART_AND_DESIGN</td>\n      <td>3.9</td>\n      <td>967</td>\n      <td>14000</td>\n      <td>1000000</td>\n      <td>Free</td>\n      <td>0.0</td>\n      <td>Everyone</td>\n      <td>2018</td>\n      <td>4</td>\n    </tr>\n    <tr>\n      <th>3</th>\n      <td>3</td>\n      <td>U Launcher Lite – FREE Live Cool Themes, Hide ...</td>\n      <td>ART_AND_DESIGN</td>\n      <td>4.7</td>\n      <td>87510</td>\n      <td>8700</td>\n      <td>10000000</td>\n      <td>Free</td>\n      <td>0.0</td>\n      <td>Everyone</td>\n      <td>2018</td>\n      <td>4</td>\n    </tr>\n    <tr>\n      <th>4</th>\n      <td>4</td>\n      <td>Pixel Draw - Number Art Coloring Book</td>\n      <td>ART_AND_DESIGN</td>\n      <td>4.3</td>\n      <td>967</td>\n      <td>2800</td>\n      <td>1000000</td>\n      <td>Free</td>\n      <td>0.0</td>\n      <td>Everyone</td>\n      <td>2018</td>\n      <td>4</td>\n    </tr>\n    <tr>\n      <th>5</th>\n      <td>5</td>\n      <td>Paper flowers instructions</td>\n      <td>ART_AND_DESIGN</td>\n      <td>4.4</td>\n      <td>167</td>\n      <td>5600</td>\n      <td>10000</td>\n      <td>Free</td>\n      <td>0.0</td>\n      <td>Everyone</td>\n      <td>2017</td>\n      <td>2</td>\n    </tr>\n  </tbody>\n</table>\n</div>"
     },
     "execution_count": 2,
     "metadata": {},
     "output_type": "execute_result"
    }
   ],
   "source": [
    "dataset_meta = DatasetMeta(SchemaName.PLAY_STORE, PlayStoreDatasetName.DATASET1)\n",
    "dataset = Dataset(dataset_meta)\n",
    "dataset_df = dataset.load_data()\n",
    "\n",
    "dataset_df.head()"
   ],
   "metadata": {
    "collapsed": false
   }
  },
  {
   "cell_type": "markdown",
   "metadata": {},
   "source": [
    "### Session Tree:"
   ]
  },
  {
   "cell_type": "code",
   "execution_count": 6,
   "metadata": {},
   "outputs": [],
   "source": []
  },
  {
   "cell_type": "markdown",
   "source": [
    "### Queries"
   ],
   "metadata": {
    "collapsed": false
   }
  },
  {
   "cell_type": "code",
   "execution_count": 5,
   "metadata": {},
   "outputs": [
    {
     "name": "stdout",
     "output_type": "stream",
     "text": [
      "                                                   name             category  \\\n",
      "2                                   Coloring book moana       ART_AND_DESIGN   \n",
      "3     U Launcher Lite – FREE Live Cool Themes, Hide ...       ART_AND_DESIGN   \n",
      "4                 Pixel Draw - Number Art Coloring Book       ART_AND_DESIGN   \n",
      "7                                      Infinite Painter       ART_AND_DESIGN   \n",
      "8                                  Garden Coloring Book       ART_AND_DESIGN   \n",
      "...                                                 ...                  ...   \n",
      "7611              Castle Clash: RPG War and Strategy FR               FAMILY   \n",
      "7615                          Golden Dictionary (FR-AR)  BOOKS_AND_REFERENCE   \n",
      "7616                               HTC Sense Input - FR                TOOLS   \n",
      "7622                                  News Minecraft.fr   NEWS_AND_MAGAZINES   \n",
      "7623                                           FR Tides              WEATHER   \n",
      "\n",
      "      rating  reviews  app_size_kb  installs  price  \n",
      "2        3.9      967        14000   1000000    0.0  \n",
      "3        4.7    87510         8700  10000000    0.0  \n",
      "4        4.3      967         2800   1000000    0.0  \n",
      "7        4.1    36815        29000   1000000    0.0  \n",
      "8        4.4    13791        33000   1000000    0.0  \n",
      "...      ...      ...          ...       ...    ...  \n",
      "7611     4.7   376223        24000   1000000    0.0  \n",
      "7615     4.2     5775         4900   1000000    0.0  \n",
      "7616     4.0      885         8000   1000000    0.0  \n",
      "7622     3.8      881         2300   1000000    0.0  \n",
      "7623     3.8     1195          582   1000000    0.0  \n",
      "\n",
      "[4497 rows x 7 columns]\n"
     ]
    }
   ],
   "source": [
    "# filter apps with at least one million installs\n",
    "df = dataset_df[dataset_df['installs'] >= 1000000]\n",
    "\n",
    "# show properties of apps with at least one million installs\n",
    "print(df[['name', 'category', 'rating', 'reviews', 'app_size_kb', 'installs', 'price']])"
   ]
  },
  {
   "cell_type": "code",
   "execution_count": null,
   "outputs": [],
   "source": [],
   "metadata": {
    "collapsed": false
   }
  }
 ],
 "metadata": {
  "kernelspec": {
   "display_name": "Python 3",
   "language": "python",
   "name": "python3"
  },
  "language_info": {
   "codemirror_mode": {
    "name": "ipython",
    "version": 3
   },
   "file_extension": ".py",
   "mimetype": "text/x-python",
   "name": "python",
   "nbconvert_exporter": "python",
   "pygments_lexer": "ipython3",
   "version": "3.7.6"
  }
 },
 "nbformat": 4,
 "nbformat_minor": 4
}
