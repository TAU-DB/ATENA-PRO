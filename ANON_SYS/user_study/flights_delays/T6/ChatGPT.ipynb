{
 "cells": [
  {
   "cell_type": "markdown",
   "metadata": {},
   "source": [
    "# Explore reasons for delay"
   ]
  },
  {
   "cell_type": "markdown",
   "source": [
    "NOTE - this notebook excuted on slightly different flights dataset (not binned, though the original one,  - https://www.kaggle.com/datasets/usdot/flight-delays?select=flights.csv)"
   ],
   "metadata": {
    "collapsed": false
   }
  },
  {
   "cell_type": "code",
   "execution_count": 1,
   "outputs": [],
   "source": [
    "from ATENA_PRO.src.ATENA_A_EDA.benchmark.atena.simulation.dataset import DatasetMeta, SchemaName, \\\n",
    "    Dataset, FlightsDatasetName"
   ],
   "metadata": {
    "collapsed": false
   }
  },
  {
   "cell_type": "code",
   "execution_count": 2,
   "outputs": [
    {
     "data": {
      "text/plain": "     YEAR  MONTH  DAY  DAY_OF_WEEK AIRLINE  FLIGHT_NUMBER TAIL_NUMBER  \\\n65   2015      1    1            4      NK            103      N616NK   \n71   2015      1    1            4      AA           2454      N3ETAA   \n104  2015      1    1            4      B6            727      N292JB   \n108  2015      1    1            4      DL           2079      N389DA   \n121  2015      1    1            4      B6            721      N623JB   \n\n    ORIGIN_AIRPORT DESTINATION_AIRPORT  SCHEDULED_DEPARTURE  ...  \\\n65             BOS                 MYR                  510  ...   \n71             BOS                 MIA                  515  ...   \n104            BOS                 BWI                  540  ...   \n108            BOS                 DTW                  540  ...   \n121            BOS                 PBI                  545  ...   \n\n     ARRIVAL_TIME  ARRIVAL_DELAY  DIVERTED  CANCELLED  CANCELLATION_REASON  \\\n65          720.0          -10.0         0          0                  NaN   \n71          845.0            2.0         0          0                  NaN   \n104         700.0          -21.0         0          0                  NaN   \n108         742.0          -21.0         0          0                  NaN   \n121         901.0           -9.0         0          0                  NaN   \n\n     AIR_SYSTEM_DELAY  SECURITY_DELAY  AIRLINE_DELAY  LATE_AIRCRAFT_DELAY  \\\n65                NaN             NaN            NaN                  NaN   \n71                NaN             NaN            NaN                  NaN   \n104               NaN             NaN            NaN                  NaN   \n108               NaN             NaN            NaN                  NaN   \n121               NaN             NaN            NaN                  NaN   \n\n     WEATHER_DELAY  \n65             NaN  \n71             NaN  \n104            NaN  \n108            NaN  \n121            NaN  \n\n[5 rows x 31 columns]",
      "text/html": "<div>\n<style scoped>\n    .dataframe tbody tr th:only-of-type {\n        vertical-align: middle;\n    }\n\n    .dataframe tbody tr th {\n        vertical-align: top;\n    }\n\n    .dataframe thead th {\n        text-align: right;\n    }\n</style>\n<table border=\"1\" class=\"dataframe\">\n  <thead>\n    <tr style=\"text-align: right;\">\n      <th></th>\n      <th>YEAR</th>\n      <th>MONTH</th>\n      <th>DAY</th>\n      <th>DAY_OF_WEEK</th>\n      <th>AIRLINE</th>\n      <th>FLIGHT_NUMBER</th>\n      <th>TAIL_NUMBER</th>\n      <th>ORIGIN_AIRPORT</th>\n      <th>DESTINATION_AIRPORT</th>\n      <th>SCHEDULED_DEPARTURE</th>\n      <th>...</th>\n      <th>ARRIVAL_TIME</th>\n      <th>ARRIVAL_DELAY</th>\n      <th>DIVERTED</th>\n      <th>CANCELLED</th>\n      <th>CANCELLATION_REASON</th>\n      <th>AIR_SYSTEM_DELAY</th>\n      <th>SECURITY_DELAY</th>\n      <th>AIRLINE_DELAY</th>\n      <th>LATE_AIRCRAFT_DELAY</th>\n      <th>WEATHER_DELAY</th>\n    </tr>\n  </thead>\n  <tbody>\n    <tr>\n      <th>65</th>\n      <td>2015</td>\n      <td>1</td>\n      <td>1</td>\n      <td>4</td>\n      <td>NK</td>\n      <td>103</td>\n      <td>N616NK</td>\n      <td>BOS</td>\n      <td>MYR</td>\n      <td>510</td>\n      <td>...</td>\n      <td>720.0</td>\n      <td>-10.0</td>\n      <td>0</td>\n      <td>0</td>\n      <td>NaN</td>\n      <td>NaN</td>\n      <td>NaN</td>\n      <td>NaN</td>\n      <td>NaN</td>\n      <td>NaN</td>\n    </tr>\n    <tr>\n      <th>71</th>\n      <td>2015</td>\n      <td>1</td>\n      <td>1</td>\n      <td>4</td>\n      <td>AA</td>\n      <td>2454</td>\n      <td>N3ETAA</td>\n      <td>BOS</td>\n      <td>MIA</td>\n      <td>515</td>\n      <td>...</td>\n      <td>845.0</td>\n      <td>2.0</td>\n      <td>0</td>\n      <td>0</td>\n      <td>NaN</td>\n      <td>NaN</td>\n      <td>NaN</td>\n      <td>NaN</td>\n      <td>NaN</td>\n      <td>NaN</td>\n    </tr>\n    <tr>\n      <th>104</th>\n      <td>2015</td>\n      <td>1</td>\n      <td>1</td>\n      <td>4</td>\n      <td>B6</td>\n      <td>727</td>\n      <td>N292JB</td>\n      <td>BOS</td>\n      <td>BWI</td>\n      <td>540</td>\n      <td>...</td>\n      <td>700.0</td>\n      <td>-21.0</td>\n      <td>0</td>\n      <td>0</td>\n      <td>NaN</td>\n      <td>NaN</td>\n      <td>NaN</td>\n      <td>NaN</td>\n      <td>NaN</td>\n      <td>NaN</td>\n    </tr>\n    <tr>\n      <th>108</th>\n      <td>2015</td>\n      <td>1</td>\n      <td>1</td>\n      <td>4</td>\n      <td>DL</td>\n      <td>2079</td>\n      <td>N389DA</td>\n      <td>BOS</td>\n      <td>DTW</td>\n      <td>540</td>\n      <td>...</td>\n      <td>742.0</td>\n      <td>-21.0</td>\n      <td>0</td>\n      <td>0</td>\n      <td>NaN</td>\n      <td>NaN</td>\n      <td>NaN</td>\n      <td>NaN</td>\n      <td>NaN</td>\n      <td>NaN</td>\n    </tr>\n    <tr>\n      <th>121</th>\n      <td>2015</td>\n      <td>1</td>\n      <td>1</td>\n      <td>4</td>\n      <td>B6</td>\n      <td>721</td>\n      <td>N623JB</td>\n      <td>BOS</td>\n      <td>PBI</td>\n      <td>545</td>\n      <td>...</td>\n      <td>901.0</td>\n      <td>-9.0</td>\n      <td>0</td>\n      <td>0</td>\n      <td>NaN</td>\n      <td>NaN</td>\n      <td>NaN</td>\n      <td>NaN</td>\n      <td>NaN</td>\n      <td>NaN</td>\n    </tr>\n  </tbody>\n</table>\n<p>5 rows × 31 columns</p>\n</div>"
     },
     "execution_count": 2,
     "metadata": {},
     "output_type": "execute_result"
    }
   ],
   "source": [
    "dataset_meta = DatasetMeta(SchemaName.FLIGHTS, FlightsDatasetName.DATASET5) # in this notebook the dataset was replaced to the original flights dataset (not binned)\n",
    "dataset = Dataset(dataset_meta)\n",
    "dataset_df = dataset.load_data()\n",
    "\n",
    "dataset_df.head()"
   ],
   "metadata": {
    "collapsed": false
   }
  },
  {
   "cell_type": "markdown",
   "source": [
    "### Queries"
   ],
   "metadata": {
    "collapsed": false
   }
  },
  {
   "cell_type": "code",
   "execution_count": 3,
   "metadata": {},
   "outputs": [
    {
     "name": "stdout",
     "output_type": "stream",
     "text": [
      "Total number of delayed flights: 39093\n",
      "Number of flights delayed due to air system delay: 14209\n",
      "Number of flights delayed due to security delay: 117\n",
      "Number of flights delayed due to airline delay: 11003\n",
      "Number of flights delayed due to late aircraft delay: 9353\n",
      "Number of flights delayed due to weather delay: 1398\n",
      "Percentage of flights delayed due to air system delay: 36.34666052746016\n",
      "Percentage of flights delayed due to security delay: 0.29928631724349625\n",
      "Percentage of flights delayed due to airline delay: 28.145703834446063\n",
      "Percentage of flights delayed due to late aircraft delay: 23.92499936049932\n",
      "Percentage of flights delayed due to weather delay: 3.5760877906530584\n"
     ]
    }
   ],
   "source": [
    "# Total number of delayed flights\n",
    "total_delayed_flights = dataset_df[dataset_df['DEPARTURE_DELAY'] > 0]['DEPARTURE_DELAY'].count()\n",
    "\n",
    "# Number of flights delayed due to air system delay\n",
    "air_system_delayed_flights = dataset_df[dataset_df['AIR_SYSTEM_DELAY'] > 0]['AIR_SYSTEM_DELAY'].count()\n",
    "\n",
    "# Number of flights delayed due to security delay\n",
    "security_delayed_flights = dataset_df[dataset_df['SECURITY_DELAY'] > 0]['SECURITY_DELAY'].count()\n",
    "\n",
    "# Number of flights delayed due to airline delay\n",
    "airline_delayed_flights = dataset_df[dataset_df['AIRLINE_DELAY'] > 0]['AIRLINE_DELAY'].count()\n",
    "\n",
    "# Number of flights delayed due to late aircraft delay\n",
    "late_aircraft_delayed_flights = dataset_df[dataset_df['LATE_AIRCRAFT_DELAY'] > 0]['LATE_AIRCRAFT_DELAY'].count()\n",
    "\n",
    "# Number of flights delayed due to weather delay\n",
    "weather_delayed_flights = dataset_df[dataset_df['WEATHER_DELAY'] > 0]['WEATHER_DELAY'].count()\n",
    "\n",
    "# Percentage of flights delayed due to different reasons\n",
    "air_system_delay_percentage = (air_system_delayed_flights / total_delayed_flights) * 100\n",
    "security_delay_percentage = (security_delayed_flights / total_delayed_flights) * 100\n",
    "airline_delay_percentage = (airline_delayed_flights / total_delayed_flights) * 100\n",
    "late_aircraft_delay_percentage = (late_aircraft_delayed_flights / total_delayed_flights) * 100\n",
    "weather_delay_percentage = (weather_delayed_flights / total_delayed_flights) * 100\n",
    "\n",
    "print(\"Total number of delayed flights:\", total_delayed_flights)\n",
    "print(\"Number of flights delayed due to air system delay:\", air_system_delayed_flights)\n",
    "print(\"Number of flights delayed due to security delay:\", security_delayed_flights)\n",
    "print(\"Number of flights delayed due to airline delay:\", airline_delayed_flights)\n",
    "print(\"Number of flights delayed due to late aircraft delay:\", late_aircraft_delayed_flights)\n",
    "print(\"Number of flights delayed due to weather delay:\", weather_delayed_flights)\n",
    "print(\"Percentage of flights delayed due to air system delay:\", air_system_delay_percentage)\n",
    "print(\"Percentage of flights delayed due to security delay:\", security_delay_percentage)\n",
    "print(\"Percentage of flights delayed due to airline delay:\", airline_delay_percentage)\n",
    "print(\"Percentage of flights delayed due to late aircraft delay:\", late_aircraft_delay_percentage)\n",
    "print(\"Percentage of flights delayed due to weather delay:\", weather_delay_percentage)"
   ]
  }
 ],
 "metadata": {
  "kernelspec": {
   "display_name": "Python 3",
   "language": "python",
   "name": "python3"
  },
  "language_info": {
   "codemirror_mode": {
    "name": "ipython",
    "version": 3
   },
   "file_extension": ".py",
   "mimetype": "text/x-python",
   "name": "python",
   "nbconvert_exporter": "python",
   "pygments_lexer": "ipython3",
   "version": "3.7.6"
  }
 },
 "nbformat": 4,
 "nbformat_minor": 4
}
